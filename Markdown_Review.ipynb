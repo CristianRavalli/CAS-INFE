{
  "nbformat": 4,
  "nbformat_minor": 0,
  "metadata": {
    "colab": {
      "provenance": [],
      "authorship_tag": "ABX9TyPH8pcYb6LVuvEzOjEe8/k6",
      "include_colab_link": true
    },
    "kernelspec": {
      "name": "python3",
      "display_name": "Python 3"
    },
    "language_info": {
      "name": "python"
    }
  },
  "cells": [
    {
      "cell_type": "markdown",
      "metadata": {
        "id": "view-in-github",
        "colab_type": "text"
      },
      "source": [
        "<a href=\"https://colab.research.google.com/github/CristianRavalli/CAS-INFE/blob/main/Markdown_Review.ipynb\" target=\"_parent\"><img src=\"https://colab.research.google.com/assets/colab-badge.svg\" alt=\"Open In Colab\"/></a>"
      ]
    },
    {
      "cell_type": "markdown",
      "source": [
        "**Markdown**"
      ],
      "metadata": {
        "id": "h0CUijcVIquz"
      }
    },
    {
      "cell_type": "markdown",
      "source": [
        "- [Markdown github](https://docs.github.com/de/get-started/writing-on-github/getting-started-with-writing-and-formatting-on-github/basic-writing-and-formatting-syntax#examples)\n",
        "\n",
        "   - [Emojiis](https://github.com/ikatyang/emoji-cheat-sheet/tree/master)\n",
        "\n",
        "- [Markdown daringfireball](https://daringfireball.net/projects/markdown/syntax)"
      ],
      "metadata": {
        "id": "QhX36wUyJbHo"
      }
    },
    {
      "cell_type": "markdown",
      "source": [
        "*Images*"
      ],
      "metadata": {
        "id": "DIjiWEXvM2GY"
      }
    },
    {
      "cell_type": "code",
      "source": [
        "# Format: ![Logo](./images/ZHAW.png)\n",
        "\n",
        "# Format: ![Alt Text](url)\n"
      ],
      "metadata": {
        "id": "HXz0BtUwJeMY"
      },
      "execution_count": null,
      "outputs": []
    },
    {
      "cell_type": "markdown",
      "source": [
        "*Table*"
      ],
      "metadata": {
        "id": "2KAKW3L4QJ6c"
      }
    },
    {
      "cell_type": "markdown",
      "source": [
        "Content | Notebook Name\n",
        "--- | ---\n",
        "DB_DWH | MySQL\n",
        "Scripting | Notebook1, Notebook 2"
      ],
      "metadata": {
        "id": "0Vv_LouoQD4s"
      }
    },
    {
      "cell_type": "markdown",
      "source": [
        "*Hiding Code*"
      ],
      "metadata": {
        "id": "CJAZ6Mhdc_xI"
      }
    },
    {
      "cell_type": "code",
      "source": [
        "\"\"\"Use\n",
        "<!-- at the beginning of the\n",
        "code\n",
        "and\n",
        "-->\n",
        "at the end of the code \"\"\""
      ],
      "metadata": {
        "id": "7NGkcZaSQEmm",
        "colab": {
          "base_uri": "https://localhost:8080/",
          "height": 35
        },
        "outputId": "80fd58c8-6707-4cde-cfd5-0e7776178c05"
      },
      "execution_count": 1,
      "outputs": [
        {
          "output_type": "execute_result",
          "data": {
            "text/plain": [
              "'Use\\n<!-- at the beginning of the\\ncode\\nand\\n-->\\nat the end of the code '"
            ],
            "application/vnd.google.colaboratory.intrinsic+json": {
              "type": "string"
            }
          },
          "metadata": {},
          "execution_count": 1
        }
      ]
    },
    {
      "cell_type": "code",
      "source": [],
      "metadata": {
        "id": "IqvTv8m-dNty"
      },
      "execution_count": null,
      "outputs": []
    }
  ]
}