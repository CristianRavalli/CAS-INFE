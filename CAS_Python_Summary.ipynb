{
  "nbformat": 4,
  "nbformat_minor": 0,
  "metadata": {
    "colab": {
      "provenance": [],
      "authorship_tag": "ABX9TyN5BZmvQfjIktIPPi/SnBIT",
      "include_colab_link": true
    },
    "kernelspec": {
      "name": "python3",
      "display_name": "Python 3"
    },
    "language_info": {
      "name": "python"
    }
  },
  "cells": [
    {
      "cell_type": "markdown",
      "metadata": {
        "id": "view-in-github",
        "colab_type": "text"
      },
      "source": [
        "<a href=\"https://colab.research.google.com/github/CristianRavalli/CAS-INFE/blob/main/CAS_Python_Summary.ipynb\" target=\"_parent\"><img src=\"https://colab.research.google.com/assets/colab-badge.svg\" alt=\"Open In Colab\"/></a>"
      ]
    },
    {
      "cell_type": "markdown",
      "source": [
        "<h2>Table of Contents</h2>\n",
        "<div class=\"alert alert-block alert-info\" style=\"margin-top: 20px\">\n",
        "    <ul>\n",
        "        <li>\n",
        "            <a href=\"#day1\">Day 1</a>\n",
        "            <ul>\n",
        "                <li><a href=\"dtypes\">Data Types</a></li>\n",
        "</div>\n",
        "\n",
        "<hr>"
      ],
      "metadata": {
        "id": "GUbuqvS6K51m"
      }
    },
    {
      "cell_type": "code",
      "source": [
        "# Check with Python Version I am running\n",
        "\n",
        "import sys\n",
        "print(sys.version)"
      ],
      "metadata": {
        "colab": {
          "base_uri": "https://localhost:8080/"
        },
        "id": "Z4aA4uMX9ZrY",
        "outputId": "2b1b11d2-88e1-4d70-cfa6-e57f06bb5b93"
      },
      "execution_count": null,
      "outputs": [
        {
          "output_type": "stream",
          "name": "stdout",
          "text": [
            "3.10.12 (main, Jul 29 2024, 16:56:48) [GCC 11.4.0]\n"
          ]
        }
      ]
    },
    {
      "cell_type": "markdown",
      "source": [
        "\n",
        "<h2 id=\"day1\">Day 1</h2>"
      ],
      "metadata": {
        "id": "BrUCcLF9cWf4"
      }
    },
    {
      "cell_type": "markdown",
      "source": [
        "<h2 id=\"dtypes\">Data Types</h2>"
      ],
      "metadata": {
        "id": "2keH89kkLyy8"
      }
    },
    {
      "cell_type": "code",
      "source": [
        "# Converting Types\n",
        "\"\"\"Ensure you DON'T USE float as a variable. Otherwise you will overwrite the function float().\n",
        "If this happens use commentect out code first, to re-instate the function.\"\"\"\n",
        "\n",
        "#import builtins\n",
        "#float = builtins.float\n",
        "\n",
        "number_float = float(2)\n",
        "print(number_float)"
      ],
      "metadata": {
        "colab": {
          "base_uri": "https://localhost:8080/"
        },
        "id": "xhkzABW99yR7",
        "outputId": "ffe5958f-9634-4eb1-9673-bf3ce629dcc4"
      },
      "execution_count": null,
      "outputs": [
        {
          "output_type": "stream",
          "name": "stdout",
          "text": [
            "2.0\n"
          ]
        }
      ]
    },
    {
      "cell_type": "markdown",
      "source": [
        "*Rechnen*"
      ],
      "metadata": {
        "id": "Gs47eHnCdAA_"
      }
    },
    {
      "cell_type": "code",
      "execution_count": null,
      "metadata": {
        "colab": {
          "base_uri": "https://localhost:8080/"
        },
        "id": "WUVpGj4VyzDB",
        "outputId": "6b9e2fb6-5bca-471d-d331-e2a9bc63f41f"
      },
      "outputs": [
        {
          "output_type": "execute_result",
          "data": {
            "text/plain": [
              "3"
            ]
          },
          "metadata": {},
          "execution_count": 27
        }
      ],
      "source": [
        "# Floor Division (Whole number) using //\n",
        "x = 25\n",
        "x // 8 # Will only produce integer"
      ]
    },
    {
      "cell_type": "markdown",
      "source": [
        "*Boolean*"
      ],
      "metadata": {
        "id": "7GyGpGtFdjrh"
      }
    },
    {
      "cell_type": "code",
      "source": [
        "# In Python any number that isn't 0 will be treated as TRUE\n",
        "\n",
        "print(\"1 is\",bool(1))\n",
        "print(\"0 is\",bool(0),\"\\n\")\n",
        "print(\"Number that isn't 0 in Python is always TRUE in Boolean terms.\")\n",
        "print(\"-1 is\",bool(-1))\n",
        "print(\"8 is\",bool(8))"
      ],
      "metadata": {
        "colab": {
          "base_uri": "https://localhost:8080/"
        },
        "id": "ScvgmThoc1xw",
        "outputId": "8c1877ef-db15-4f77-d3ba-d1fa88b37eb8"
      },
      "execution_count": null,
      "outputs": [
        {
          "output_type": "stream",
          "name": "stdout",
          "text": [
            "1 is True\n",
            "0 is False \n",
            "\n",
            "Number that isn't 0 in Python is always TRUE in Boolean terms.\n",
            "-1 is True\n",
            "8 is True\n"
          ]
        }
      ]
    },
    {
      "cell_type": "code",
      "source": [
        "# Logic Operators\n",
        "\n",
        "\"Variables\"\n",
        "x = 8\n",
        "y = 13\n",
        "\n",
        "print(\"y (13) is NOT equal to x (8). That's\",not(y == x))\n",
        "print(\"y (13) is unequal to x (8) AND also bigger than y. That's\", y != x and y > x)     # are both True && True then True all other are False\n",
        "print(\"With OR operator if at least on part of the equation is TRUE. That's\",y > x or y < x)       # are one part or both are True then true only are both False or False then False\n",
        "print(\"With XOR operator ONLY ONE opeation can be TRUE. Then it's\",(y > x) ^ (y == x),\"Otherwise it's FALSE.\")   # are both part True or False then False else True\n"
      ],
      "metadata": {
        "colab": {
          "base_uri": "https://localhost:8080/"
        },
        "id": "-GWGeBdjfAeE",
        "outputId": "32c25d70-a548-42fa-f3a1-87f3708be3f1"
      },
      "execution_count": null,
      "outputs": [
        {
          "output_type": "stream",
          "name": "stdout",
          "text": [
            "y (13) is NOT equal to x (8). That's True\n",
            "y (13) is unequal to x (8) AND also bigger than y. That's True\n",
            "With OR operator if at least on part of the equation is TRUE. That's True\n",
            "With XOR operator ONLY ONE opeation can be TRUE. Then it's True Otherwise it's FALSE.\n"
          ]
        }
      ]
    },
    {
      "cell_type": "code",
      "source": [
        "# Timing Operators\n",
        "\"Remember, unless dealing with performance critical sections of code, it is MORE IMPORTANT to focus on readability and maintainability of code.\"\n",
        "\n",
        "%timeit  not(y == x)\n",
        "%timeit  (y != x)             # Faster because it's dealing with one operation and not two.\n",
        "\n",
        "%timeit  (y != x and y > x)\n",
        "%timeit  (y < x and y != x)   # If the first part is false, which it is in our case, Python won't evaluate the second section.\n",
        "\n",
        "%timeit  (y < x or y != x)\n",
        "%timeit  (y > x or y < x)     # Usually faster than inequality operators.\n",
        "\n",
        "\n",
        "%timeit  (y > x) ^ (y == x)\n",
        "%timeit  ((y > x) and not (y == x)) or (not(y > x) and (y == x))"
      ],
      "metadata": {
        "colab": {
          "base_uri": "https://localhost:8080/"
        },
        "id": "1z_NQmXb5Up3",
        "outputId": "b41fcbaa-2a43-4c70-83f2-6a781045dfe8"
      },
      "execution_count": null,
      "outputs": [
        {
          "output_type": "stream",
          "name": "stdout",
          "text": [
            "69.6 ns ± 0.654 ns per loop (mean ± std. dev. of 7 runs, 10000000 loops each)\n",
            "81.2 ns ± 21.7 ns per loop (mean ± std. dev. of 7 runs, 10000000 loops each)\n",
            "115 ns ± 0.453 ns per loop (mean ± std. dev. of 7 runs, 10000000 loops each)\n",
            "80.7 ns ± 24 ns per loop (mean ± std. dev. of 7 runs, 10000000 loops each)\n",
            "131 ns ± 31.3 ns per loop (mean ± std. dev. of 7 runs, 10000000 loops each)\n",
            "66 ns ± 0.7 ns per loop (mean ± std. dev. of 7 runs, 10000000 loops each)\n",
            "142 ns ± 28 ns per loop (mean ± std. dev. of 7 runs, 10000000 loops each)\n",
            "142 ns ± 31.4 ns per loop (mean ± std. dev. of 7 runs, 10000000 loops each)\n"
          ]
        }
      ]
    },
    {
      "cell_type": "markdown",
      "source": [
        "**Strings - Day 1**"
      ],
      "metadata": {
        "id": "OVpJ5nLnzXUZ"
      }
    },
    {
      "cell_type": "markdown",
      "source": [
        "*Strings - Basics*"
      ],
      "metadata": {
        "id": "vu9NE6PI62Ul"
      }
    },
    {
      "cell_type": "code",
      "source": [
        "s = \"Python\"\n",
        "print(s)"
      ],
      "metadata": {
        "colab": {
          "base_uri": "https://localhost:8080/"
        },
        "id": "ay5hKiy46hPf",
        "outputId": "3735e2cb-6938-4016-9876-22386a9b40eb"
      },
      "execution_count": null,
      "outputs": [
        {
          "output_type": "stream",
          "name": "stdout",
          "text": [
            "Python\n"
          ]
        }
      ]
    },
    {
      "cell_type": "code",
      "source": [
        "# USE \"\"\" for multiline strings.\n",
        "# Any gaps and spaces on the new line, to create indentations will be accounted for by Python\n",
        "\n",
        "multiline = \"\"\"Python is fun\n",
        "AND it's even better with...\n",
        "multiline strings!\"\"\"\n",
        "\n",
        "print(multiline)"
      ],
      "metadata": {
        "colab": {
          "base_uri": "https://localhost:8080/"
        },
        "id": "0iw3iWi28alD",
        "outputId": "8072f934-c820-4685-b06d-1e9ca444d221"
      },
      "execution_count": null,
      "outputs": [
        {
          "output_type": "stream",
          "name": "stdout",
          "text": [
            "Python is fun\n",
            "AND it's even better with...\n",
            "multiline strings!\n"
          ]
        }
      ]
    },
    {
      "cell_type": "code",
      "source": [
        "christmas_tree = \"\"\"\n",
        "    *\n",
        "   ***\n",
        "  *****\n",
        " *******\n",
        "*********\n",
        "   ||\n",
        "   ||\n",
        "\"\"\"\n",
        "\n",
        "print(christmas_tree)"
      ],
      "metadata": {
        "colab": {
          "base_uri": "https://localhost:8080/"
        },
        "id": "CKdOC0KT9zyn",
        "outputId": "ed981ca1-cd81-435d-918a-5a0d06a699c8"
      },
      "execution_count": null,
      "outputs": [
        {
          "output_type": "stream",
          "name": "stdout",
          "text": [
            "\n",
            "    *\n",
            "   ***\n",
            "  *****\n",
            " *******\n",
            "*********\n",
            "   ||\n",
            "   ||\n",
            "\n"
          ]
        }
      ]
    },
    {
      "cell_type": "code",
      "source": [
        "# Priting from right to left\n",
        "\n",
        "print(\"The last letter\",s[-1])\n",
        "print(\"The first letter\", s[len(s)*-1])"
      ],
      "metadata": {
        "colab": {
          "base_uri": "https://localhost:8080/"
        },
        "id": "QZZXBG0k7Cou",
        "outputId": "ade789d9-9461-422a-b102-19c1e3515a76"
      },
      "execution_count": null,
      "outputs": [
        {
          "output_type": "stream",
          "name": "stdout",
          "text": [
            "The last letter n\n",
            "The first letter P\n"
          ]
        }
      ]
    },
    {
      "cell_type": "code",
      "source": [
        "# f-string using variables\n",
        "\n",
        "name = \"cristian\"\n",
        "age = 46\n",
        "\n",
        "print(f\"My name is {name} and I am {age} years old.\") # Easy, remember to add pre-defined variables with curly brackets."
      ],
      "metadata": {
        "colab": {
          "base_uri": "https://localhost:8080/"
        },
        "id": "HFDUAYGD7D1Z",
        "outputId": "3d54abb9-0fb8-4f71-eb06-3f04c8f51b8c"
      },
      "execution_count": null,
      "outputs": [
        {
          "output_type": "stream",
          "name": "stdout",
          "text": [
            "My name is cristian and I am 46 years old.\n"
          ]
        }
      ]
    },
    {
      "cell_type": "code",
      "source": [
        "# f-string doing calculation within\n",
        "\n",
        "# Convert Fahrenheit to Celcius\n",
        "\n",
        "print(f\"The temperature 99F in degrees celsius is {(99 - 32) * 5 / 9}C\")"
      ],
      "metadata": {
        "id": "haWZmoaa7EJx",
        "colab": {
          "base_uri": "https://localhost:8080/"
        },
        "outputId": "8d9557d3-c444-4ce3-e779-88f98db8876d"
      },
      "execution_count": null,
      "outputs": [
        {
          "output_type": "stream",
          "name": "stdout",
          "text": [
            "The temperature 99F in degrees celsius is 37.22222222222222C\n"
          ]
        }
      ]
    },
    {
      "cell_type": "code",
      "source": [
        "# f-string combining varialbes with on the spot calculation\n",
        "\n",
        "current_temp = 61\n",
        "\n",
        "# In the f-string you use the curly brackets, while in the calculation you can simply use the variable!\n",
        "\n",
        "print(f\"The temperature {current_temp}F in degrees celsius is {(current_temp - 32) * 5 / 9}C.\")"
      ],
      "metadata": {
        "colab": {
          "base_uri": "https://localhost:8080/"
        },
        "id": "lm-JrGI4C43T",
        "outputId": "8277a9f8-f916-40b6-e645-207b5635d5c7"
      },
      "execution_count": null,
      "outputs": [
        {
          "output_type": "stream",
          "name": "stdout",
          "text": [
            "The temperature 61F in degrees celsius is 16.11111111111111C.\n"
          ]
        }
      ]
    },
    {
      "cell_type": "code",
      "source": [
        "# Adjusting the result format to 1 decimal place using \":.1f\" at the end of the computation.\n",
        "print(f\"The temperature {current_temp}F in degrees celsius is {(current_temp - 32) * 5 / 9:.1f}C.\")"
      ],
      "metadata": {
        "colab": {
          "base_uri": "https://localhost:8080/"
        },
        "id": "IWXpHQlRE7nv",
        "outputId": "4a081223-8768-4456-c5e8-4dad7bb0bb08"
      },
      "execution_count": null,
      "outputs": [
        {
          "output_type": "stream",
          "name": "stdout",
          "text": [
            "The temperature 61F in degrees celsius is 16.1C.\n"
          ]
        }
      ]
    },
    {
      "cell_type": "markdown",
      "source": [
        "*An Overview of Escape Sequences*"
      ],
      "metadata": {
        "id": "NMx5L8E32CE6"
      }
    },
    {
      "cell_type": "code",
      "source": [
        "# New line escape sequence\n",
        "\n",
        "print(\" Michael Jackson \\n is the best\")"
      ],
      "metadata": {
        "colab": {
          "base_uri": "https://localhost:8080/"
        },
        "id": "vKMLSMpJzdjd",
        "outputId": "7291eb63-0065-44d3-f7d6-ec8bb9ddd662"
      },
      "execution_count": null,
      "outputs": [
        {
          "output_type": "stream",
          "name": "stdout",
          "text": [
            " Michael Jackson \n",
            " is the best\n"
          ]
        }
      ]
    },
    {
      "cell_type": "code",
      "source": [
        "# Tab escape sequence\n",
        "\n",
        "print(\" Michael Jackson \\t is the best\")"
      ],
      "metadata": {
        "colab": {
          "base_uri": "https://localhost:8080/"
        },
        "id": "H50ix4YI2J-l",
        "outputId": "3153c355-7f39-48b5-ad77-7d56bfa10239"
      },
      "execution_count": null,
      "outputs": [
        {
          "output_type": "stream",
          "name": "stdout",
          "text": [
            " Michael Jackson \t is the best\n"
          ]
        }
      ]
    },
    {
      "cell_type": "code",
      "source": [
        "# Include \\ in the string\n",
        "\n",
        "print(\" Michael Jackson \\\\ is the best\")"
      ],
      "metadata": {
        "colab": {
          "base_uri": "https://localhost:8080/"
        },
        "id": "P_S6HMVB2c3q",
        "outputId": "b9ab6b29-7866-479d-f7b0-c80e247a325d"
      },
      "execution_count": null,
      "outputs": [
        {
          "output_type": "stream",
          "name": "stdout",
          "text": [
            " Michael Jackson \\ is the best\n"
          ]
        }
      ]
    },
    {
      "cell_type": "code",
      "source": [
        "# r will tell python that string will be displayed as raw string (alternative)\n",
        "\n",
        "print(r\" Michael Jackson \\ is the best\")"
      ],
      "metadata": {
        "colab": {
          "base_uri": "https://localhost:8080/"
        },
        "id": "n9QQq1J42nig",
        "outputId": "58f542bd-d706-46bd-e27d-e9055fc1e359"
      },
      "execution_count": null,
      "outputs": [
        {
          "output_type": "stream",
          "name": "stdout",
          "text": [
            " Michael Jackson \\ is the best\n"
          ]
        }
      ]
    },
    {
      "cell_type": "markdown",
      "source": [
        "*Slicing (start:stop:step)*"
      ],
      "metadata": {
        "id": "f8y-Q90xISeT"
      }
    },
    {
      "cell_type": "code",
      "source": [
        "# Slicing a wort from beginning to the end in two steps\n",
        "\n",
        "name = \"E0s Sxulzlslö v p p t\"\n",
        "\n",
        "name[::2]"
      ],
      "metadata": {
        "colab": {
          "base_uri": "https://localhost:8080/",
          "height": 35
        },
        "id": "BfmvdL71CfX3",
        "outputId": "805077ee-44b3-4600-9a39-e519b33459de"
      },
      "execution_count": null,
      "outputs": [
        {
          "output_type": "execute_result",
          "data": {
            "text/plain": [
              "'EsSuzsövppt'"
            ],
            "application/vnd.google.colaboratory.intrinsic+json": {
              "type": "string"
            }
          },
          "metadata": {},
          "execution_count": 12
        }
      ]
    },
    {
      "cell_type": "code",
      "source": [
        "# Einen \\ printen (zwei Varianten)\n",
        "print(r\" \\ \")   # Gibt einen einzelnen Backslash aus\n",
        "#print(r\"\\\")     # Würde einen Syntaxfehler verursachen\n",
        "print(\"\\\\\")     # Gibt ebenfalls einen einzelnen Backslash aus, aber ohne rohen String\n"
      ],
      "metadata": {
        "colab": {
          "base_uri": "https://localhost:8080/"
        },
        "id": "iaa0yicaIo9x",
        "outputId": "53aaf2c2-701e-49a8-cade-176321d3dd71"
      },
      "execution_count": null,
      "outputs": [
        {
          "output_type": "stream",
          "name": "stdout",
          "text": [
            " \\ \n",
            "\\\n"
          ]
        }
      ]
    },
    {
      "cell_type": "markdown",
      "source": [
        "--------------------------------------------------------------------------------"
      ],
      "metadata": {
        "id": "f-BL2BJYKdun"
      }
    },
    {
      "cell_type": "markdown",
      "source": [
        "**Day 2**"
      ],
      "metadata": {
        "id": "I8_7KNxzJ02A"
      }
    },
    {
      "cell_type": "markdown",
      "source": [
        "*Condition Statements*"
      ],
      "metadata": {
        "id": "VVHHxgbNKTBB"
      }
    },
    {
      "cell_type": "code",
      "source": [
        "# Equality and inequality signs are applicable to strings too\n",
        "\n",
        "\"Please comment out the line you don't want to be returned.\"\n",
        "#\"Metallica\" != \"Swift Taylor\" # Will return True\n",
        "#\"Metallica\" == \"Megadeath\" # Will return False"
      ],
      "metadata": {
        "colab": {
          "base_uri": "https://localhost:8080/"
        },
        "id": "yNYD0Fy8KQoL",
        "outputId": "e8120a2e-0b8d-4e07-fe5a-1186cb3ed780"
      },
      "execution_count": null,
      "outputs": [
        {
          "output_type": "execute_result",
          "data": {
            "text/plain": [
              "True"
            ]
          },
          "metadata": {},
          "execution_count": 5
        }
      ]
    },
    {
      "cell_type": "code",
      "source": [
        "''' The following concepts or a combination thereof are important\n",
        "to homogenise strings when you ask for user inputs.\n",
        "Ensuring your loop will work in the desired manner.'''\n",
        "\n",
        "# Ensures capitalising inputs won't matter for your loop\n",
        "\n",
        "#\"Metallica\".lower() == \"metallica\" # Will return True\n",
        "\n",
        "# Removing whitespaces that user my input by mistake.\n",
        "#\" Metallica \".strip() == \"Metallica\" # Will return True\n",
        "\n",
        "# You could also use a combiation\n",
        "\" MeTaLLiCA \".strip().title() == \"Metallica\" # Will return True"
      ],
      "metadata": {
        "colab": {
          "base_uri": "https://localhost:8080/"
        },
        "id": "tyIZHxtuOARs",
        "outputId": "4d73134a-fcb0-4f13-8a3e-55c5389573e1"
      },
      "execution_count": null,
      "outputs": [
        {
          "output_type": "execute_result",
          "data": {
            "text/plain": [
              "True"
            ]
          },
          "metadata": {},
          "execution_count": 10
        }
      ]
    },
    {
      "cell_type": "markdown",
      "source": [
        "*Branching*"
      ],
      "metadata": {
        "id": "CxYLH4aDQkq4"
      }
    },
    {
      "cell_type": "code",
      "source": [
        "# If statement example\n",
        "\n",
        "'''By uncommenting the second variable will illustrate the point about the\n",
        "indentation'''\n",
        "\n",
        "wintersport = \"Snowboarding\".lower()\n",
        "#wintersport = \"Skiing\".lower()\n",
        "\n",
        "#expression that can be true or false\n",
        "\n",
        "# Will only run if condition is met\n",
        "if wintersport != \"skiing\":\n",
        "\n",
        "    #within an indent, we have the expression that is run if the condition is true\n",
        "    print(\"You are a Snowboarder!\" )\n",
        "\n",
        "#runs if False\n",
        "else:\n",
        "    print(\"You must be a Skier!\")\n",
        "\n",
        "#Runs regardless if the condition is true or false\n",
        "print(\"\\n Who's next?\")"
      ],
      "metadata": {
        "colab": {
          "base_uri": "https://localhost:8080/"
        },
        "id": "CxiHfI1uQjHw",
        "outputId": "07db1f06-4be0-420c-f20f-ca61fa009a14"
      },
      "execution_count": null,
      "outputs": [
        {
          "output_type": "stream",
          "name": "stdout",
          "text": [
            "You are a Snowboarder!\n",
            "\n",
            " Who's next?\n"
          ]
        }
      ]
    },
    {
      "cell_type": "code",
      "source": [
        "# Condition statement example\n",
        "\n",
        "album_year = 1995\n",
        "#album_year = 1978\n",
        "\n",
        "if album_year > 1995:\n",
        "    print(\"Album year is greater than 1995\")\n",
        "\n",
        "elif album_year == 1995:\n",
        "    print(\"Album year is 1995, the year Fred Böhler died.\")\n",
        "\n",
        "else:\n",
        "    print(\"less than 1995\")\n",
        "\n",
        "print(\"\\n Weren't there much better singers in the past?\")"
      ],
      "metadata": {
        "colab": {
          "base_uri": "https://localhost:8080/"
        },
        "id": "ODHNEgI-UbkQ",
        "outputId": "a78d8382-406d-4739-ec73-b963db87d1e2"
      },
      "execution_count": null,
      "outputs": [
        {
          "output_type": "stream",
          "name": "stdout",
          "text": [
            "Album year is 1995, the year Fred Böhler died.\n",
            "\n",
            " Wheren't there much better singers in the past?\n"
          ]
        }
      ]
    },
    {
      "cell_type": "markdown",
      "source": [
        "*Logical Operators*"
      ],
      "metadata": {
        "id": "iwFe1Fq2V03B"
      }
    },
    {
      "cell_type": "code",
      "source": [
        "album_rating = 8.5\n",
        "#album_rating = 8\n",
        "\n",
        "if album_rating > 8:\n",
        "  print(\"This album is Amazing!\")\n",
        "\n",
        "elif album_rating <= 8:\n",
        "  print(\"This album is ok.\")"
      ],
      "metadata": {
        "colab": {
          "base_uri": "https://localhost:8080/"
        },
        "id": "GLx_WTE5V5Mz",
        "outputId": "3234f20d-b02f-486d-98a4-e74a27d2807a"
      },
      "execution_count": null,
      "outputs": [
        {
          "output_type": "stream",
          "name": "stdout",
          "text": [
            "This album is Amazing!\n"
          ]
        }
      ]
    },
    {
      "cell_type": "markdown",
      "source": [
        "*Loops*"
      ],
      "metadata": {
        "id": "ENb-wL5FUoVy"
      }
    },
    {
      "cell_type": "markdown",
      "source": [
        "*For Loop*"
      ],
      "metadata": {
        "id": "827v-omN1hq_"
      }
    },
    {
      "cell_type": "code",
      "source": [
        "# for Loop to print out every element in a list\n",
        "\n",
        "years = [1975,1978,1999,2018,2022,2023]\n",
        "N = len(years)\n",
        "\n",
        "for i in range(N):\n",
        "  # Because of the identation, it's executed until true.\n",
        "  # In our case that is until the list ends.\n",
        "  print(years[i])\n",
        "\n",
        "print(\"Priting without using a Loop.\")\n",
        "print(years)"
      ],
      "metadata": {
        "colab": {
          "base_uri": "https://localhost:8080/"
        },
        "id": "Nxi-NDOSvGov",
        "outputId": "cdafbb58-7690-4c56-ba1a-717454f56645"
      },
      "execution_count": 5,
      "outputs": [
        {
          "output_type": "stream",
          "name": "stdout",
          "text": [
            "1975\n",
            "1978\n",
            "1999\n",
            "2018\n",
            "2022\n",
            "2023\n",
            "Priting without using a Loop\n",
            "[1975, 1978, 1999, 2018, 2022, 2023]\n"
          ]
        }
      ]
    },
    {
      "cell_type": "code",
      "source": [
        "\"\"\"If one only needs the values without the index\n",
        "This is a pure Python approach\"\"\"\n",
        "\n",
        "for year in years:\n",
        "  print(year)\n"
      ],
      "metadata": {
        "colab": {
          "base_uri": "https://localhost:8080/"
        },
        "id": "1uP7zDSsxsgW",
        "outputId": "69651599-b828-4993-eb34-6677418bf939"
      },
      "execution_count": 8,
      "outputs": [
        {
          "output_type": "stream",
          "name": "stdout",
          "text": [
            "1975\n",
            "1978\n",
            "1999\n",
            "2018\n",
            "2022\n",
            "2023\n"
          ]
        }
      ]
    },
    {
      "cell_type": "code",
      "source": [
        "# Creating a list of numbers, using a loop\n",
        "\n",
        "numbers_l = []\n",
        "\n",
        "for i in range(0, 8):\n",
        "    numbers_l.append(i)\n",
        "\n",
        "numbers_l"
      ],
      "metadata": {
        "colab": {
          "base_uri": "https://localhost:8080/"
        },
        "id": "4ULwk_ZCzTPV",
        "outputId": "cf32750f-282c-4dc7-fa50-84af85f74fc4"
      },
      "execution_count": 13,
      "outputs": [
        {
          "output_type": "execute_result",
          "data": {
            "text/plain": [
              "[0, 1, 2, 3, 4, 5, 6, 7]"
            ]
          },
          "metadata": {},
          "execution_count": 13
        }
      ]
    },
    {
      "cell_type": "code",
      "source": [
        "# Loop through the list and iterate on both index and element value\n",
        "\n",
        "squares=['red', 'yellow', 'green', 'purple', 'blue']\n",
        "\n",
        "# i will stand for index, while square stands for the word in the list\n",
        "# using enumerate() allows us to establish the index position of each word.\n",
        "\n",
        "for i, square in enumerate(squares):\n",
        "    print(i, square)"
      ],
      "metadata": {
        "colab": {
          "base_uri": "https://localhost:8080/"
        },
        "id": "vUH4G_JL0n7E",
        "outputId": "7576fdfa-dc63-4ec6-b16d-0a2128733194"
      },
      "execution_count": 16,
      "outputs": [
        {
          "output_type": "stream",
          "name": "stdout",
          "text": [
            "0 red\n",
            "1 yellow\n",
            "2 green\n",
            "3 purple\n",
            "4 blue\n"
          ]
        }
      ]
    },
    {
      "cell_type": "markdown",
      "source": [
        "*While Loop*"
      ],
      "metadata": {
        "id": "gvVzs2Xj1qVH"
      }
    },
    {
      "cell_type": "code",
      "source": [
        "# While Loop Example\n",
        "\n",
        "dates = [1982, 1980, 1973, 2000, 2010, 2011, 2018, 2022, 2023]\n",
        "\n",
        "#Counter (When using addition, always start at 0)\n",
        "i = 0\n",
        "\n",
        "# The year variable is set to 0 as we aren't expecting any year 0 to be in our list.\n",
        "year = 0\n",
        "\n",
        "while(year != 2023):\n",
        "    #the variable year is re-set to the current iteration date in the list\n",
        "    year = dates[i]\n",
        "    # i is the counter, which we increase by 1, after each iteration.\n",
        "    i = i + 1\n",
        "    # Will print every date we have gone through to verify the process of our while loop\n",
        "    print(year)\n",
        "\n",
        "print(\"It took \", i ,\"repetitions to get out of loop.\")"
      ],
      "metadata": {
        "colab": {
          "base_uri": "https://localhost:8080/"
        },
        "id": "L7LEPxzk1oLz",
        "outputId": "66316bbc-e01c-4e6f-c4a3-4872efdc7ba7"
      },
      "execution_count": 20,
      "outputs": [
        {
          "output_type": "stream",
          "name": "stdout",
          "text": [
            "1982\n",
            "1980\n",
            "1973\n",
            "2000\n",
            "2010\n",
            "2011\n",
            "2018\n",
            "2022\n",
            "2023\n",
            "It took  9 repetitions to get out of loop.\n"
          ]
        }
      ]
    },
    {
      "cell_type": "code",
      "source": [
        "numbers = []\n",
        "\n",
        "for i in range(-5,6):\n",
        "  numbers.append(i)\n",
        "\n",
        "  # Will print each number, after each loop\n",
        "  print(i)\n",
        "\n",
        "# Will create a list at the end (not indented)\n",
        "print(\"\\n Using my loop to create a list of numbers.\")\n",
        "numbers\n",
        "\n",
        "# Would we not indent our print statement, we would only return the last number in our loop.\n",
        "print(\"\\n\",i)"
      ],
      "metadata": {
        "colab": {
          "base_uri": "https://localhost:8080/"
        },
        "id": "TCPfoICj36B4",
        "outputId": "ecb505c4-4d5b-4a44-bc40-63a726695942"
      },
      "execution_count": 31,
      "outputs": [
        {
          "output_type": "stream",
          "name": "stdout",
          "text": [
            "-5\n",
            "-4\n",
            "-3\n",
            "-2\n",
            "-1\n",
            "0\n",
            "1\n",
            "2\n",
            "3\n",
            "4\n",
            "5\n",
            "\n",
            " Using my loop to create a list of numbers.\n",
            "\n",
            " 5\n"
          ]
        }
      ]
    },
    {
      "cell_type": "code",
      "source": [
        "# Printing our Genres using Pythonic approach with corrected spelling.\n",
        "\n",
        "Genres=[ 'rock', 'R&B', 'Soundtrack', 'R&B', 'soul', 'pop']\n",
        "\n",
        "for genre in Genres:\n",
        "  print(genre.title())"
      ],
      "metadata": {
        "colab": {
          "base_uri": "https://localhost:8080/"
        },
        "id": "MCD8SS3r6JDJ",
        "outputId": "46d266d4-f7a3-4ca4-e0ab-60b7c448ffc1"
      },
      "execution_count": 32,
      "outputs": [
        {
          "output_type": "stream",
          "name": "stdout",
          "text": [
            "Rock\n",
            "R&B\n",
            "Soundtrack\n",
            "R&B\n",
            "Soul\n",
            "Pop\n"
          ]
        }
      ]
    },
    {
      "cell_type": "code",
      "source": [
        "# While loop\n",
        "\n",
        "PlayListRatings = [10, 9.5, 10, 8, 7.5, 5, 10, 10]\n",
        "\n",
        "# Initialize the counting index\n",
        "i = 1\n",
        "\n",
        "# Set the initial Rating to the first element of the list\n",
        "Rating = PlayListRatings[0]\n",
        "\n",
        "# Continue the loop as long as the Rating is 6 or higher\n",
        "while(Rating >= 6):\n",
        "    # Print the current Rating\n",
        "    print(Rating)\n",
        "\n",
        "    # Update Rating to the next element using \"i\" in the list\n",
        "    Rating = PlayListRatings[i]\n",
        "\n",
        "    # Increment the index to move to the next element for the next iteration\n",
        "    i = i + 1"
      ],
      "metadata": {
        "colab": {
          "base_uri": "https://localhost:8080/"
        },
        "id": "OgqbY28v6kDi",
        "outputId": "ee3f9b15-1ead-4620-e58f-d1428904b030"
      },
      "execution_count": 41,
      "outputs": [
        {
          "output_type": "stream",
          "name": "stdout",
          "text": [
            "10\n",
            "9.5\n",
            "10\n",
            "8\n",
            "7.5\n"
          ]
        }
      ]
    },
    {
      "cell_type": "code",
      "source": [
        "# Pythonic approach to achieve the same as above\n",
        "\n",
        "PlayListRatings = [10, 9.5, 10, 8, 7.5, 5, 10, 10]\n",
        "\n",
        "for i,Rating in enumerate(PlayListRatings):\n",
        "    if Rating < 6:\n",
        "        # If Rating is less than 6, break will let you exit your loop\n",
        "        break\n",
        "    print(i,Rating)\n"
      ],
      "metadata": {
        "colab": {
          "base_uri": "https://localhost:8080/"
        },
        "id": "qDLGxyI69dc0",
        "outputId": "5624c4ec-12a7-4404-c056-39f722a6f1ce"
      },
      "execution_count": 44,
      "outputs": [
        {
          "output_type": "stream",
          "name": "stdout",
          "text": [
            "0 10\n",
            "1 9.5\n",
            "2 10\n",
            "3 8\n",
            "4 7.5\n"
          ]
        }
      ]
    },
    {
      "cell_type": "code",
      "source": [
        "# Write your code below and press Shift+Enter to execute\n",
        "\n",
        "squares = ['orange', 'orange', 'purple', 'blue ', 'orange']\n",
        "new_squares = []\n",
        "\n",
        "#counter\n",
        "i = 0\n",
        "\n",
        "# i will start squares list at index 0\n",
        "while squares[i] == \"orange\":\n",
        "  # appending string to new_squares if equals to orange\n",
        "  new_squares.append(squares[i])\n",
        "  # we increase the counter after each iteration\n",
        "  i = i +1\n",
        "  #printing each result of our loop\n",
        "  print(new_squares)\n",
        "#print our result at the end,\n",
        "print(\"\\n\" + str(new_squares))\n",
        "#avoiding space created by using a comma.\n",
        "print(\"\\n\",new_squares)"
      ],
      "metadata": {
        "colab": {
          "base_uri": "https://localhost:8080/"
        },
        "id": "q8bIHdSb-mXJ",
        "outputId": "6b01bde2-9624-41a5-a099-02b8625e046d"
      },
      "execution_count": 56,
      "outputs": [
        {
          "output_type": "stream",
          "name": "stdout",
          "text": [
            "['orange']\n",
            "['orange', 'orange']\n",
            "\n",
            "['orange', 'orange']\n",
            "\n",
            " ['orange', 'orange']\n"
          ]
        }
      ]
    },
    {
      "cell_type": "code",
      "source": [
        "from IPython.display import Image\n",
        "\n",
        "#Actual URL of your image replacing the \"github.com\" part with \"raw.githubusercontent.com\"\n",
        "image_url = \"https://raw.githubusercontent.com/CristianRavalli/CAS-INFE/main/DecisionTreeHalving.png\"\n",
        "\n",
        "display(Image(url=image_url))"
      ],
      "metadata": {
        "colab": {
          "base_uri": "https://localhost:8080/",
          "height": 243
        },
        "id": "dA8K1StKQ9Ln",
        "outputId": "853b0cf6-d493-4426-93e3-13930e755ac5"
      },
      "execution_count": null,
      "outputs": [
        {
          "output_type": "display_data",
          "data": {
            "text/html": [
              "<img src=\"https://raw.githubusercontent.com/CristianRavalli/CAS-INFE/main/DecisionTreeHalving.png\"/>"
            ],
            "text/plain": [
              "<IPython.core.display.Image object>"
            ]
          },
          "metadata": {}
        }
      ]
    },
    {
      "cell_type": "code",
      "source": [
        "# Creating Input Box account for potential whitespaces (.strip) and capitalised entries (.lower) by the user.\n",
        "\n",
        "inp = input(\"Please think of a number from 1 to 10. Ready? Please type 'yes' or 'y' when you are.\")\n",
        "\n",
        "# The below reduces any provided entry like yeah, yo, etc. to just the first letter.\n",
        "if inp.startswith('y'):\n",
        "\n",
        "  # Now we are going up the decision tree all the way up form 5 to 10.\n",
        "\n",
        "  inp = input(\"Is the number greater than 5?\")\n",
        "  if inp.startswith('y'):\n",
        "    inp = input(\"Is the number greater than 7?\")\n",
        "    if inp.startswith('y'):\n",
        "      inp = input(\"Is the number greater than 9?\")\n",
        "      if inp.startswith('y'):\n",
        "        print(\"\\nThe number is 10.\")\n",
        "\n",
        "      # Working our way back to account for \"No\" answers equal or bigger than 7.\n",
        "      else:\n",
        "        inp = input(\"Is the number equal to 8?\")\n",
        "        if inp.startswith('y'):\n",
        "          print(\"\\nThe number is 8.\")\n",
        "        else:\n",
        "          print(\"\\nThe number is 9.\")\n",
        "\n",
        "    # This loop is aligned with greater than 7, because we are now evaluating that branch in reverse\n",
        "    else:\n",
        "      inp = input(\"Is the number equal to 7?\")\n",
        "      if inp.startswith('y'):\n",
        "        print(\"\\nThe number is 7.\")\n",
        "      else:\n",
        "        print(\"\\nThe number is 6.\")\n",
        "\n",
        "  # This loop is aligned with greater than 5, because we are now evaluating that branch Bottom up\n",
        "  else:\n",
        "    inp = input(\"Is the number greater than 2?\")\n",
        "    if inp.startswith('y'):\n",
        "      inp = input(\"Is the number greater than 4?\")\n",
        "      if inp.startswith('y'):\n",
        "        print(\"\\nThe number is 5.\")\n",
        "      else:\n",
        "        inp = input(\"Is the number equal to 3?\")\n",
        "        if inp.startswith('y'):\n",
        "          print(\"\\nThe number is 3.\")\n",
        "        else:\n",
        "          print(\"\\nThe number is 4.\")\n",
        "\n",
        "    # This loop is aligned with greater than 2, because we are now evaulating that brnach in reverse\n",
        "    else:\n",
        "      inp = input(\"Is the number equal to 1?\")\n",
        "      if inp.startswith('y'):\n",
        "        print(\"\\nThe number is 1.\")\n",
        "      else:\n",
        "        print(\"\\nThe number is 2.\")\n",
        "\n",
        "print(\"\\nThanks for coming in!\")"
      ],
      "metadata": {
        "colab": {
          "base_uri": "https://localhost:8080/"
        },
        "id": "n_7L-pwSvebQ",
        "outputId": "a25db574-e441-4a98-eff9-a4760b081995"
      },
      "execution_count": null,
      "outputs": [
        {
          "output_type": "stream",
          "name": "stdout",
          "text": [
            "Please think of a number from 1 to 10. Ready? Please type 'yes' or 'y' when you are.y\n",
            "Is the number greater than 5?y\n",
            "Is the number greater than 7?y\n",
            "Is the number greater than 9?n\n",
            "Is the number equal to 8?y\n",
            "\n",
            "The number is 8.\n",
            "\n",
            "Thanks for coming in!\n"
          ]
        }
      ]
    },
    {
      "cell_type": "code",
      "source": [],
      "metadata": {
        "id": "jE8oLwMa6h1Z"
      },
      "execution_count": null,
      "outputs": []
    }
  ]
}