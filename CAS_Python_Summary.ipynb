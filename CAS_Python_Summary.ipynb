{
  "nbformat": 4,
  "nbformat_minor": 0,
  "metadata": {
    "colab": {
      "provenance": [],
      "authorship_tag": "ABX9TyN+dbhz/46W00mhIIFPK/iJ",
      "include_colab_link": true
    },
    "kernelspec": {
      "name": "python3",
      "display_name": "Python 3"
    },
    "language_info": {
      "name": "python"
    }
  },
  "cells": [
    {
      "cell_type": "markdown",
      "metadata": {
        "id": "view-in-github",
        "colab_type": "text"
      },
      "source": [
        "<a href=\"https://colab.research.google.com/github/CristianRavalli/CAS-INFE/blob/main/CAS_Python_Summary.ipynb\" target=\"_parent\"><img src=\"https://colab.research.google.com/assets/colab-badge.svg\" alt=\"Open In Colab\"/></a>"
      ]
    },
    {
      "cell_type": "code",
      "source": [
        "# Check with Python Version I am running\n",
        "\n",
        "import sys\n",
        "print(sys.version)"
      ],
      "metadata": {
        "colab": {
          "base_uri": "https://localhost:8080/"
        },
        "id": "Z4aA4uMX9ZrY",
        "outputId": "2b1b11d2-88e1-4d70-cfa6-e57f06bb5b93"
      },
      "execution_count": null,
      "outputs": [
        {
          "output_type": "stream",
          "name": "stdout",
          "text": [
            "3.10.12 (main, Jul 29 2024, 16:56:48) [GCC 11.4.0]\n"
          ]
        }
      ]
    },
    {
      "cell_type": "markdown",
      "source": [
        "**Data Types - Day 1**"
      ],
      "metadata": {
        "id": "BrUCcLF9cWf4"
      }
    },
    {
      "cell_type": "code",
      "source": [
        "# Converting Types\n",
        "\"\"\"Ensure you DON'T USE float as a variable. Otherwise you will overwrite the function float().\n",
        "If this happens use commentect out code first, to re-instate the function.\"\"\"\n",
        "\n",
        "#import builtins\n",
        "#float = builtins.float\n",
        "\n",
        "number_float = float(2)\n",
        "print(number_float)"
      ],
      "metadata": {
        "colab": {
          "base_uri": "https://localhost:8080/"
        },
        "id": "xhkzABW99yR7",
        "outputId": "ffe5958f-9634-4eb1-9673-bf3ce629dcc4"
      },
      "execution_count": null,
      "outputs": [
        {
          "output_type": "stream",
          "name": "stdout",
          "text": [
            "2.0\n"
          ]
        }
      ]
    },
    {
      "cell_type": "markdown",
      "source": [
        "*Rechnen*"
      ],
      "metadata": {
        "id": "Gs47eHnCdAA_"
      }
    },
    {
      "cell_type": "code",
      "execution_count": null,
      "metadata": {
        "colab": {
          "base_uri": "https://localhost:8080/"
        },
        "id": "WUVpGj4VyzDB",
        "outputId": "6b9e2fb6-5bca-471d-d331-e2a9bc63f41f"
      },
      "outputs": [
        {
          "output_type": "execute_result",
          "data": {
            "text/plain": [
              "3"
            ]
          },
          "metadata": {},
          "execution_count": 27
        }
      ],
      "source": [
        "# Floor Division (Whole number) using //\n",
        "x = 25\n",
        "x // 8 # Will only produce integer"
      ]
    },
    {
      "cell_type": "markdown",
      "source": [
        "*Boolean*"
      ],
      "metadata": {
        "id": "7GyGpGtFdjrh"
      }
    },
    {
      "cell_type": "code",
      "source": [
        "# In Python any number that isn't 0 will be treated as TRUE\n",
        "\n",
        "print(\"1 is\",bool(1))\n",
        "print(\"0 is\",bool(0),\"\\n\")\n",
        "print(\"Number that isn't 0 in Python is always TRUE in Boolean terms.\")\n",
        "print(\"-1 is\",bool(-1))\n",
        "print(\"8 is\",bool(8))"
      ],
      "metadata": {
        "colab": {
          "base_uri": "https://localhost:8080/"
        },
        "id": "ScvgmThoc1xw",
        "outputId": "8c1877ef-db15-4f77-d3ba-d1fa88b37eb8"
      },
      "execution_count": null,
      "outputs": [
        {
          "output_type": "stream",
          "name": "stdout",
          "text": [
            "1 is True\n",
            "0 is False \n",
            "\n",
            "Number that isn't 0 in Python is always TRUE in Boolean terms.\n",
            "-1 is True\n",
            "8 is True\n"
          ]
        }
      ]
    },
    {
      "cell_type": "code",
      "source": [
        "# Logic Operators\n",
        "\n",
        "\"Variables\"\n",
        "x = 8\n",
        "y = 13\n",
        "\n",
        "print(\"y (13) is NOT equal to x (8). That's\",not(y == x))\n",
        "print(\"y (13) is unequal to x (8) AND also bigger than y. That's\", y != x and y > x)     # are both True && True then True all other are False\n",
        "print(\"With OR operator if at least on part of the equation is TRUE. That's\",y > x or y < x)       # are one part or both are True then true only are both False or False then False\n",
        "print(\"With XOR operator ONLY ONE opeation can be TRUE. Then it's\",(y > x) ^ (y == x),\"Otherwise it's FALSE.\")   # are both part True or False then False else True\n"
      ],
      "metadata": {
        "colab": {
          "base_uri": "https://localhost:8080/"
        },
        "id": "-GWGeBdjfAeE",
        "outputId": "32c25d70-a548-42fa-f3a1-87f3708be3f1"
      },
      "execution_count": null,
      "outputs": [
        {
          "output_type": "stream",
          "name": "stdout",
          "text": [
            "y (13) is NOT equal to x (8). That's True\n",
            "y (13) is unequal to x (8) AND also bigger than y. That's True\n",
            "With OR operator if at least on part of the equation is TRUE. That's True\n",
            "With XOR operator ONLY ONE opeation can be TRUE. Then it's True Otherwise it's FALSE.\n"
          ]
        }
      ]
    },
    {
      "cell_type": "code",
      "source": [
        "# Timing Operators\n",
        "\"Remember, unless dealing with performance critical sections of code, it is MORE IMPORTANT to focus on readability and maintainability of code.\"\n",
        "\n",
        "%timeit  not(y == x)\n",
        "%timeit  (y != x)             # Faster because it's dealing with one operation and not two.\n",
        "\n",
        "%timeit  (y != x and y > x)\n",
        "%timeit  (y < x and y != x)   # If the first part is false, which it is in our case, Python won't evaluate the second section.\n",
        "\n",
        "%timeit  (y < x or y != x)\n",
        "%timeit  (y > x or y < x)     # Usually faster than inequality operators.\n",
        "\n",
        "\n",
        "%timeit  (y > x) ^ (y == x)\n",
        "%timeit  ((y > x) and not (y == x)) or (not(y > x) and (y == x))"
      ],
      "metadata": {
        "colab": {
          "base_uri": "https://localhost:8080/"
        },
        "id": "1z_NQmXb5Up3",
        "outputId": "b41fcbaa-2a43-4c70-83f2-6a781045dfe8"
      },
      "execution_count": null,
      "outputs": [
        {
          "output_type": "stream",
          "name": "stdout",
          "text": [
            "69.6 ns ± 0.654 ns per loop (mean ± std. dev. of 7 runs, 10000000 loops each)\n",
            "81.2 ns ± 21.7 ns per loop (mean ± std. dev. of 7 runs, 10000000 loops each)\n",
            "115 ns ± 0.453 ns per loop (mean ± std. dev. of 7 runs, 10000000 loops each)\n",
            "80.7 ns ± 24 ns per loop (mean ± std. dev. of 7 runs, 10000000 loops each)\n",
            "131 ns ± 31.3 ns per loop (mean ± std. dev. of 7 runs, 10000000 loops each)\n",
            "66 ns ± 0.7 ns per loop (mean ± std. dev. of 7 runs, 10000000 loops each)\n",
            "142 ns ± 28 ns per loop (mean ± std. dev. of 7 runs, 10000000 loops each)\n",
            "142 ns ± 31.4 ns per loop (mean ± std. dev. of 7 runs, 10000000 loops each)\n"
          ]
        }
      ]
    },
    {
      "cell_type": "markdown",
      "source": [
        "**Strings - Day 1**"
      ],
      "metadata": {
        "id": "OVpJ5nLnzXUZ"
      }
    },
    {
      "cell_type": "markdown",
      "source": [
        "*Strings - Basics*"
      ],
      "metadata": {
        "id": "vu9NE6PI62Ul"
      }
    },
    {
      "cell_type": "code",
      "source": [
        "s = \"Python\"\n",
        "print(s)"
      ],
      "metadata": {
        "colab": {
          "base_uri": "https://localhost:8080/"
        },
        "id": "ay5hKiy46hPf",
        "outputId": "3735e2cb-6938-4016-9876-22386a9b40eb"
      },
      "execution_count": null,
      "outputs": [
        {
          "output_type": "stream",
          "name": "stdout",
          "text": [
            "Python\n"
          ]
        }
      ]
    },
    {
      "cell_type": "code",
      "source": [
        "# Priting from right to left\n",
        "\n",
        "print(\"The last letter\",s[-1])\n",
        "print(\"The first letter\", s[len(s)*-1])"
      ],
      "metadata": {
        "colab": {
          "base_uri": "https://localhost:8080/"
        },
        "id": "QZZXBG0k7Cou",
        "outputId": "ade789d9-9461-422a-b102-19c1e3515a76"
      },
      "execution_count": null,
      "outputs": [
        {
          "output_type": "stream",
          "name": "stdout",
          "text": [
            "The last letter n\n",
            "The first letter P\n"
          ]
        }
      ]
    },
    {
      "cell_type": "code",
      "source": [
        "# f-string\n",
        "\n",
        "name = \"cristian\"\n",
        "age = 46\n",
        "\n",
        "print(f\"My name is {name} and I am {age} years old.\") # Easy, remember to add pre-defined variables with curly brackets."
      ],
      "metadata": {
        "colab": {
          "base_uri": "https://localhost:8080/"
        },
        "id": "HFDUAYGD7D1Z",
        "outputId": "3d54abb9-0fb8-4f71-eb06-3f04c8f51b8c"
      },
      "execution_count": null,
      "outputs": [
        {
          "output_type": "stream",
          "name": "stdout",
          "text": [
            "My name is cristian and I am 46 years old.\n"
          ]
        }
      ]
    },
    {
      "cell_type": "code",
      "source": [],
      "metadata": {
        "id": "haWZmoaa7EJx"
      },
      "execution_count": null,
      "outputs": []
    },
    {
      "cell_type": "markdown",
      "source": [
        "*An Overview of Escape Sequences*"
      ],
      "metadata": {
        "id": "NMx5L8E32CE6"
      }
    },
    {
      "cell_type": "code",
      "source": [
        "# New line escape sequence\n",
        "\n",
        "print(\" Michael Jackson \\n is the best\")"
      ],
      "metadata": {
        "colab": {
          "base_uri": "https://localhost:8080/"
        },
        "id": "vKMLSMpJzdjd",
        "outputId": "e8721b2d-8f9d-46b0-adaa-4a2ef190ebc3"
      },
      "execution_count": null,
      "outputs": [
        {
          "output_type": "stream",
          "name": "stdout",
          "text": [
            " Michael Jackson \n",
            " is the best\n"
          ]
        }
      ]
    },
    {
      "cell_type": "code",
      "source": [
        "# Tab escape sequence\n",
        "\n",
        "print(\" Michael Jackson \\t is the best\")"
      ],
      "metadata": {
        "colab": {
          "base_uri": "https://localhost:8080/"
        },
        "id": "H50ix4YI2J-l",
        "outputId": "3153c355-7f39-48b5-ad77-7d56bfa10239"
      },
      "execution_count": null,
      "outputs": [
        {
          "output_type": "stream",
          "name": "stdout",
          "text": [
            " Michael Jackson \t is the best\n"
          ]
        }
      ]
    },
    {
      "cell_type": "code",
      "source": [
        "# Include \\ in the string\n",
        "\n",
        "print(\" Michael Jackson \\\\ is the best\")"
      ],
      "metadata": {
        "colab": {
          "base_uri": "https://localhost:8080/"
        },
        "id": "P_S6HMVB2c3q",
        "outputId": "b9ab6b29-7866-479d-f7b0-c80e247a325d"
      },
      "execution_count": null,
      "outputs": [
        {
          "output_type": "stream",
          "name": "stdout",
          "text": [
            " Michael Jackson \\ is the best\n"
          ]
        }
      ]
    },
    {
      "cell_type": "code",
      "source": [
        "# r will tell python that string will be displayed as raw string (alternative)\n",
        "\n",
        "print(r\" Michael Jackson \\ is the best\")"
      ],
      "metadata": {
        "colab": {
          "base_uri": "https://localhost:8080/"
        },
        "id": "n9QQq1J42nig",
        "outputId": "58f542bd-d706-46bd-e27d-e9055fc1e359"
      },
      "execution_count": null,
      "outputs": [
        {
          "output_type": "stream",
          "name": "stdout",
          "text": [
            " Michael Jackson \\ is the best\n"
          ]
        }
      ]
    },
    {
      "cell_type": "markdown",
      "source": [
        "*Slicing (start:stop:step)*"
      ],
      "metadata": {
        "id": "f8y-Q90xISeT"
      }
    },
    {
      "cell_type": "code",
      "source": [
        "# Slicing a wort from beginning to the end in two steps\n",
        "\n",
        "name = \"E0s Sxulzlslö v p p t\"\n",
        "\n",
        "name[::2]"
      ],
      "metadata": {
        "colab": {
          "base_uri": "https://localhost:8080/",
          "height": 35
        },
        "id": "BfmvdL71CfX3",
        "outputId": "805077ee-44b3-4600-9a39-e519b33459de"
      },
      "execution_count": null,
      "outputs": [
        {
          "output_type": "execute_result",
          "data": {
            "text/plain": [
              "'EsSuzsövppt'"
            ],
            "application/vnd.google.colaboratory.intrinsic+json": {
              "type": "string"
            }
          },
          "metadata": {},
          "execution_count": 12
        }
      ]
    },
    {
      "cell_type": "code",
      "source": [
        "# Einen \\ printen (zwei Varianten)\n",
        "print(r\" \\ \")   # Gibt einen einzelnen Backslash aus\n",
        "#print(r\"\\\")     # Würde einen Syntaxfehler verursachen\n",
        "print(\"\\\\\")     # Gibt ebenfalls einen einzelnen Backslash aus, aber ohne rohen String\n"
      ],
      "metadata": {
        "colab": {
          "base_uri": "https://localhost:8080/"
        },
        "id": "iaa0yicaIo9x",
        "outputId": "520f2fbe-9def-4b4e-9dfb-76741d26783e"
      },
      "execution_count": null,
      "outputs": [
        {
          "output_type": "stream",
          "name": "stdout",
          "text": [
            " \\ \n",
            "\\\n"
          ]
        }
      ]
    }
  ]
}