{
  "nbformat": 4,
  "nbformat_minor": 0,
  "metadata": {
    "colab": {
      "provenance": [],
      "authorship_tag": "ABX9TyO3k5J9aRfh3Kit/IJnX8Zr",
      "include_colab_link": true
    },
    "kernelspec": {
      "name": "python3",
      "display_name": "Python 3"
    },
    "language_info": {
      "name": "python"
    }
  },
  "cells": [
    {
      "cell_type": "markdown",
      "metadata": {
        "id": "view-in-github",
        "colab_type": "text"
      },
      "source": [
        "<a href=\"https://colab.research.google.com/github/CristianRavalli/CAS-INFE/blob/main/CAS_Python_Summary.ipynb\" target=\"_parent\"><img src=\"https://colab.research.google.com/assets/colab-badge.svg\" alt=\"Open In Colab\"/></a>"
      ]
    },
    {
      "cell_type": "markdown",
      "source": [
        "<h2>Table of Contents</h2>\n",
        "<div class=\"alert alert-block alert-info\" style=\"margin-top: 20px\">\n",
        "    <ul>\n",
        "        <li>\n",
        "            <a href=\"#day1\">Day 1</a>\n",
        "            <ul>\n",
        "                <li><a href=\"dtypes\">Data Types</a></li>\n",
        "</div>\n",
        "\n",
        "<hr>"
      ],
      "metadata": {
        "id": "GUbuqvS6K51m"
      }
    },
    {
      "cell_type": "code",
      "source": [
        "# Check with Python Version I am running\n",
        "\n",
        "import sys\n",
        "print(sys.version)"
      ],
      "metadata": {
        "colab": {
          "base_uri": "https://localhost:8080/"
        },
        "id": "Z4aA4uMX9ZrY",
        "outputId": "cd3b3ca3-a12b-43e7-d95e-dca1acd7da58"
      },
      "execution_count": null,
      "outputs": [
        {
          "output_type": "stream",
          "name": "stdout",
          "text": [
            "3.10.12 (main, Jul 29 2024, 16:56:48) [GCC 11.4.0]\n"
          ]
        }
      ]
    },
    {
      "cell_type": "markdown",
      "source": [
        "\n",
        "<h2 id=\"day1\">Day 1</h2>"
      ],
      "metadata": {
        "id": "BrUCcLF9cWf4"
      }
    },
    {
      "cell_type": "markdown",
      "source": [
        "<h2 id=\"dtypes\">Data Types</h2>"
      ],
      "metadata": {
        "id": "2keH89kkLyy8"
      }
    },
    {
      "cell_type": "code",
      "source": [
        "# Converting Types\n",
        "\"\"\"Ensure you DON'T USE float as a variable. Otherwise you will overwrite the function float().\n",
        "If this happens use commentect out code first, to re-instate the function.\"\"\"\n",
        "\n",
        "#import builtins\n",
        "#float = builtins.float\n",
        "\n",
        "number_float = float(2)\n",
        "print(number_float)"
      ],
      "metadata": {
        "colab": {
          "base_uri": "https://localhost:8080/"
        },
        "id": "xhkzABW99yR7",
        "outputId": "d7e7d066-8b5b-4931-9c13-f348977195da"
      },
      "execution_count": null,
      "outputs": [
        {
          "output_type": "stream",
          "name": "stdout",
          "text": [
            "2.0\n"
          ]
        }
      ]
    },
    {
      "cell_type": "markdown",
      "source": [
        "*Rechnen*"
      ],
      "metadata": {
        "id": "Gs47eHnCdAA_"
      }
    },
    {
      "cell_type": "code",
      "execution_count": null,
      "metadata": {
        "colab": {
          "base_uri": "https://localhost:8080/"
        },
        "id": "WUVpGj4VyzDB",
        "outputId": "cdfa0842-7a9d-46e6-91eb-6387a1557758"
      },
      "outputs": [
        {
          "output_type": "execute_result",
          "data": {
            "text/plain": [
              "3"
            ]
          },
          "metadata": {},
          "execution_count": 3
        }
      ],
      "source": [
        "# Floor Division (Whole number) using //\n",
        "x = 25\n",
        "x // 8 # Will only produce integer"
      ]
    },
    {
      "cell_type": "markdown",
      "source": [
        "*Boolean*"
      ],
      "metadata": {
        "id": "7GyGpGtFdjrh"
      }
    },
    {
      "cell_type": "code",
      "source": [
        "# In Python any number that isn't 0 will be treated as TRUE\n",
        "\n",
        "print(\"1 is\",bool(1))\n",
        "print(\"0 is\",bool(0),\"\\n\")\n",
        "print(\"Number that isn't 0 in Python is always TRUE in Boolean terms.\")\n",
        "print(\"-1 is\",bool(-1))\n",
        "print(\"8 is\",bool(8))"
      ],
      "metadata": {
        "colab": {
          "base_uri": "https://localhost:8080/"
        },
        "id": "ScvgmThoc1xw",
        "outputId": "c3b471f7-3fec-4923-a14c-d0534b2755bf"
      },
      "execution_count": null,
      "outputs": [
        {
          "output_type": "stream",
          "name": "stdout",
          "text": [
            "1 is True\n",
            "0 is False \n",
            "\n",
            "Number that isn't 0 in Python is always TRUE in Boolean terms.\n",
            "-1 is True\n",
            "8 is True\n"
          ]
        }
      ]
    },
    {
      "cell_type": "code",
      "source": [
        "# Logic Operators\n",
        "\n",
        "\"Variables\"\n",
        "x = 8\n",
        "y = 13\n",
        "\n",
        "print(\"y (13) is NOT equal to x (8). That's\",not(y == x))\n",
        "print(\"y (13) is unequal to x (8) AND also bigger than y. That's\", y != x and y > x)     # are both True && True then True all other are False\n",
        "print(\"With OR operator if at least on part of the equation is TRUE. That's\",y > x or y < x)       # are one part or both are True then true only are both False or False then False\n",
        "print(\"With XOR operator ONLY ONE opeation can be TRUE. Then it's\",(y > x) ^ (y == x),\"Otherwise it's FALSE.\")   # are both part True or False then False else True\n"
      ],
      "metadata": {
        "colab": {
          "base_uri": "https://localhost:8080/"
        },
        "id": "-GWGeBdjfAeE",
        "outputId": "6b691bbe-d852-4eb0-84e3-66005dda3e91"
      },
      "execution_count": null,
      "outputs": [
        {
          "output_type": "stream",
          "name": "stdout",
          "text": [
            "y (13) is NOT equal to x (8). That's True\n",
            "y (13) is unequal to x (8) AND also bigger than y. That's True\n",
            "With OR operator if at least on part of the equation is TRUE. That's True\n",
            "With XOR operator ONLY ONE opeation can be TRUE. Then it's True Otherwise it's FALSE.\n"
          ]
        }
      ]
    },
    {
      "cell_type": "code",
      "source": [
        "# Timing Operators\n",
        "\"Remember, unless dealing with performance critical sections of code, it is MORE IMPORTANT to focus on readability and maintainability of code.\"\n",
        "\n",
        "%timeit  not(y == x)\n",
        "%timeit  (y != x)             # Faster because it's dealing with one operation and not two.\n",
        "\n",
        "%timeit  (y != x and y > x)\n",
        "%timeit  (y < x and y != x)   # If the first part is false, which it is in our case, Python won't evaluate the second section.\n",
        "\n",
        "%timeit  (y < x or y != x)\n",
        "%timeit  (y > x or y < x)     # Usually faster than inequality operators.\n",
        "\n",
        "\n",
        "%timeit  (y > x) ^ (y == x)\n",
        "%timeit  ((y > x) and not (y == x)) or (not(y > x) and (y == x))"
      ],
      "metadata": {
        "colab": {
          "base_uri": "https://localhost:8080/"
        },
        "id": "1z_NQmXb5Up3",
        "outputId": "fda84a5e-1e00-45aa-9cbe-57f4068d69dc"
      },
      "execution_count": null,
      "outputs": [
        {
          "output_type": "stream",
          "name": "stdout",
          "text": [
            "130 ns ± 61.6 ns per loop (mean ± std. dev. of 7 runs, 10000000 loops each)\n",
            "57.6 ns ± 0.806 ns per loop (mean ± std. dev. of 7 runs, 10000000 loops each)\n",
            "124 ns ± 29.7 ns per loop (mean ± std. dev. of 7 runs, 10000000 loops each)\n",
            "61.8 ns ± 1.05 ns per loop (mean ± std. dev. of 7 runs, 10000000 loops each)\n",
            "124 ns ± 29.7 ns per loop (mean ± std. dev. of 7 runs, 10000000 loops each)\n",
            "62.4 ns ± 4.81 ns per loop (mean ± std. dev. of 7 runs, 10000000 loops each)\n",
            "212 ns ± 12.2 ns per loop (mean ± std. dev. of 7 runs, 1000000 loops each)\n",
            "164 ns ± 43.5 ns per loop (mean ± std. dev. of 7 runs, 1000000 loops each)\n"
          ]
        }
      ]
    },
    {
      "cell_type": "markdown",
      "source": [
        "**Strings - Day 1**"
      ],
      "metadata": {
        "id": "OVpJ5nLnzXUZ"
      }
    },
    {
      "cell_type": "markdown",
      "source": [
        "*Strings - Basics*"
      ],
      "metadata": {
        "id": "vu9NE6PI62Ul"
      }
    },
    {
      "cell_type": "code",
      "source": [
        "s = \"Python\"\n",
        "print(s)"
      ],
      "metadata": {
        "colab": {
          "base_uri": "https://localhost:8080/"
        },
        "id": "ay5hKiy46hPf",
        "outputId": "761082fe-6ed4-4d44-f706-2d70e98aa41b"
      },
      "execution_count": null,
      "outputs": [
        {
          "output_type": "stream",
          "name": "stdout",
          "text": [
            "Python\n"
          ]
        }
      ]
    },
    {
      "cell_type": "code",
      "source": [
        "# USE \"\"\" for multiline strings.\n",
        "# Any gaps and spaces on the new line, to create indentations will be accounted for by Python\n",
        "\n",
        "multiline = \"\"\"Python is fun\n",
        "AND it's even better with...\n",
        "multiline strings!\"\"\"\n",
        "\n",
        "print(multiline)"
      ],
      "metadata": {
        "colab": {
          "base_uri": "https://localhost:8080/"
        },
        "id": "0iw3iWi28alD",
        "outputId": "6e097491-1498-4b35-b82e-3a8d757c7972"
      },
      "execution_count": null,
      "outputs": [
        {
          "output_type": "stream",
          "name": "stdout",
          "text": [
            "Python is fun\n",
            "AND it's even better with...\n",
            "multiline strings!\n"
          ]
        }
      ]
    },
    {
      "cell_type": "code",
      "source": [
        "christmas_tree = \"\"\"\n",
        "    *\n",
        "   ***\n",
        "  *****\n",
        " *******\n",
        "*********\n",
        "   ||\n",
        "   ||\n",
        "\"\"\"\n",
        "\n",
        "print(christmas_tree)"
      ],
      "metadata": {
        "colab": {
          "base_uri": "https://localhost:8080/"
        },
        "id": "CKdOC0KT9zyn",
        "outputId": "143892fd-303e-4088-8127-6d6982ab7f6b"
      },
      "execution_count": null,
      "outputs": [
        {
          "output_type": "stream",
          "name": "stdout",
          "text": [
            "\n",
            "    *\n",
            "   ***\n",
            "  *****\n",
            " *******\n",
            "*********\n",
            "   ||\n",
            "   ||\n",
            "\n"
          ]
        }
      ]
    },
    {
      "cell_type": "code",
      "source": [
        "# Priting from right to left\n",
        "\n",
        "print(\"The last letter\",s[-1])\n",
        "print(\"The first letter\", s[len(s)*-1])"
      ],
      "metadata": {
        "colab": {
          "base_uri": "https://localhost:8080/"
        },
        "id": "QZZXBG0k7Cou",
        "outputId": "1f0700ee-bd9a-4b18-c6be-396b62dd2b40"
      },
      "execution_count": null,
      "outputs": [
        {
          "output_type": "stream",
          "name": "stdout",
          "text": [
            "The last letter n\n",
            "The first letter P\n"
          ]
        }
      ]
    },
    {
      "cell_type": "code",
      "source": [
        "# f-string using variables\n",
        "\n",
        "name = \"cristian\"\n",
        "age = 46\n",
        "\n",
        "print(f\"My name is {name} and I am {age} years old.\") # Easy, remember to add pre-defined variables with curly brackets."
      ],
      "metadata": {
        "colab": {
          "base_uri": "https://localhost:8080/"
        },
        "id": "HFDUAYGD7D1Z",
        "outputId": "bc5a160f-db0b-482a-8d8b-bf91ed7ba662"
      },
      "execution_count": null,
      "outputs": [
        {
          "output_type": "stream",
          "name": "stdout",
          "text": [
            "My name is cristian and I am 46 years old.\n"
          ]
        }
      ]
    },
    {
      "cell_type": "code",
      "source": [
        "# f-string doing calculation within\n",
        "\n",
        "# Convert Fahrenheit to Celcius\n",
        "\n",
        "print(f\"The temperature 99F in degrees celsius is {(99 - 32) * 5 / 9}C\")"
      ],
      "metadata": {
        "id": "haWZmoaa7EJx",
        "colab": {
          "base_uri": "https://localhost:8080/"
        },
        "outputId": "826710da-9911-4c92-e5ca-1a56fe312185"
      },
      "execution_count": null,
      "outputs": [
        {
          "output_type": "stream",
          "name": "stdout",
          "text": [
            "The temperature 99F in degrees celsius is 37.22222222222222C\n"
          ]
        }
      ]
    },
    {
      "cell_type": "code",
      "source": [
        "# f-string combining varialbes with on the spot calculation\n",
        "\n",
        "current_temp = 61\n",
        "\n",
        "# In the f-string you use the curly brackets, while in the calculation you can simply use the variable!\n",
        "\n",
        "print(f\"The temperature {current_temp}F in degrees celsius is {(current_temp - 32) * 5 / 9}C.\")"
      ],
      "metadata": {
        "colab": {
          "base_uri": "https://localhost:8080/"
        },
        "id": "lm-JrGI4C43T",
        "outputId": "7af33b6c-0806-4ecc-e950-296e1ed96007"
      },
      "execution_count": null,
      "outputs": [
        {
          "output_type": "stream",
          "name": "stdout",
          "text": [
            "The temperature 61F in degrees celsius is 16.11111111111111C.\n"
          ]
        }
      ]
    },
    {
      "cell_type": "code",
      "source": [
        "# Adjusting the result format to 1 decimal place using \":.1f\" at the end of the computation.\n",
        "print(f\"The temperature {current_temp}F in degrees celsius is {(current_temp - 32) * 5 / 9:.1f}C.\")"
      ],
      "metadata": {
        "colab": {
          "base_uri": "https://localhost:8080/"
        },
        "id": "IWXpHQlRE7nv",
        "outputId": "8f9c8458-fc6c-4d04-8f6b-2a379071f8ae"
      },
      "execution_count": null,
      "outputs": [
        {
          "output_type": "stream",
          "name": "stdout",
          "text": [
            "The temperature 61F in degrees celsius is 16.1C.\n"
          ]
        }
      ]
    },
    {
      "cell_type": "markdown",
      "source": [
        "*An Overview of Escape Sequences*"
      ],
      "metadata": {
        "id": "NMx5L8E32CE6"
      }
    },
    {
      "cell_type": "code",
      "source": [
        "# New line escape sequence\n",
        "\n",
        "print(\" Michael Jackson \\n is the best\")"
      ],
      "metadata": {
        "colab": {
          "base_uri": "https://localhost:8080/"
        },
        "id": "vKMLSMpJzdjd",
        "outputId": "a79600df-4ef5-42f4-d1e3-0b943ae660ba"
      },
      "execution_count": null,
      "outputs": [
        {
          "output_type": "stream",
          "name": "stdout",
          "text": [
            " Michael Jackson \n",
            " is the best\n"
          ]
        }
      ]
    },
    {
      "cell_type": "code",
      "source": [
        "# Tab escape sequence\n",
        "\n",
        "print(\" Michael Jackson \\t is the best\")"
      ],
      "metadata": {
        "colab": {
          "base_uri": "https://localhost:8080/"
        },
        "id": "H50ix4YI2J-l",
        "outputId": "53ce2221-83cf-48fe-a709-61d495e7f063"
      },
      "execution_count": null,
      "outputs": [
        {
          "output_type": "stream",
          "name": "stdout",
          "text": [
            " Michael Jackson \t is the best\n"
          ]
        }
      ]
    },
    {
      "cell_type": "code",
      "source": [
        "# Include \\ in the string\n",
        "\n",
        "print(\" Michael Jackson \\\\ is the best\")"
      ],
      "metadata": {
        "colab": {
          "base_uri": "https://localhost:8080/"
        },
        "id": "P_S6HMVB2c3q",
        "outputId": "cb15454c-e022-4448-ea52-a26f43fdff3a"
      },
      "execution_count": null,
      "outputs": [
        {
          "output_type": "stream",
          "name": "stdout",
          "text": [
            " Michael Jackson \\ is the best\n"
          ]
        }
      ]
    },
    {
      "cell_type": "code",
      "source": [
        "# r will tell python that string will be displayed as raw string (alternative)\n",
        "\n",
        "print(r\" Michael Jackson \\ is the best\")"
      ],
      "metadata": {
        "colab": {
          "base_uri": "https://localhost:8080/"
        },
        "id": "n9QQq1J42nig",
        "outputId": "cf2b6791-d81b-4c0f-b081-719c88df3257"
      },
      "execution_count": null,
      "outputs": [
        {
          "output_type": "stream",
          "name": "stdout",
          "text": [
            " Michael Jackson \\ is the best\n"
          ]
        }
      ]
    },
    {
      "cell_type": "markdown",
      "source": [
        "*Slicing (start:stop:step)*"
      ],
      "metadata": {
        "id": "f8y-Q90xISeT"
      }
    },
    {
      "cell_type": "code",
      "source": [
        "# Slicing a wort from beginning to the end in two steps\n",
        "\n",
        "name = \"E0s Sxulzlslö v p p t\"\n",
        "\n",
        "name[::2]"
      ],
      "metadata": {
        "colab": {
          "base_uri": "https://localhost:8080/",
          "height": 35
        },
        "id": "BfmvdL71CfX3",
        "outputId": "527f104a-641c-48bc-91a5-0436bebeff1b"
      },
      "execution_count": null,
      "outputs": [
        {
          "output_type": "execute_result",
          "data": {
            "text/plain": [
              "'EsSuzsövppt'"
            ],
            "application/vnd.google.colaboratory.intrinsic+json": {
              "type": "string"
            }
          },
          "metadata": {},
          "execution_count": 19
        }
      ]
    },
    {
      "cell_type": "code",
      "source": [
        "# Einen \\ printen (zwei Varianten)\n",
        "print(r\" \\ \")   # Gibt einen einzelnen Backslash aus\n",
        "#print(r\"\\\")     # Würde einen Syntaxfehler verursachen\n",
        "print(\"\\\\\")     # Gibt ebenfalls einen einzelnen Backslash aus, aber ohne rohen String\n"
      ],
      "metadata": {
        "colab": {
          "base_uri": "https://localhost:8080/"
        },
        "id": "iaa0yicaIo9x",
        "outputId": "429accd0-b882-4ec7-831e-1014d4df7428"
      },
      "execution_count": null,
      "outputs": [
        {
          "output_type": "stream",
          "name": "stdout",
          "text": [
            " \\ \n",
            "\\\n"
          ]
        }
      ]
    },
    {
      "cell_type": "markdown",
      "source": [
        "--------------------------------------------------------------------------------"
      ],
      "metadata": {
        "id": "f-BL2BJYKdun"
      }
    },
    {
      "cell_type": "markdown",
      "source": [
        "**Day 2**"
      ],
      "metadata": {
        "id": "I8_7KNxzJ02A"
      }
    },
    {
      "cell_type": "markdown",
      "source": [
        "*Condition Statements*"
      ],
      "metadata": {
        "id": "VVHHxgbNKTBB"
      }
    },
    {
      "cell_type": "code",
      "source": [
        "# Equality and inequality signs are applicable to strings too\n",
        "\n",
        "\"Please comment out the line you don't want to be returned.\"\n",
        "#\"Metallica\" != \"Swift Taylor\" # Will return True\n",
        "#\"Metallica\" == \"Megadeath\" # Will return False"
      ],
      "metadata": {
        "colab": {
          "base_uri": "https://localhost:8080/",
          "height": 35
        },
        "id": "yNYD0Fy8KQoL",
        "outputId": "5733e7e1-e08c-4f5f-fa30-6d43a2e7342e"
      },
      "execution_count": null,
      "outputs": [
        {
          "output_type": "execute_result",
          "data": {
            "text/plain": [
              "\"Please comment out the line you don't want to be returned.\""
            ],
            "application/vnd.google.colaboratory.intrinsic+json": {
              "type": "string"
            }
          },
          "metadata": {},
          "execution_count": 21
        }
      ]
    },
    {
      "cell_type": "code",
      "source": [
        "''' The following concepts or a combination thereof are important\n",
        "to homogenise strings when you ask for user inputs.\n",
        "Ensuring your loop will work in the desired manner.'''\n",
        "\n",
        "# Ensures capitalising inputs won't matter for your loop\n",
        "\n",
        "#\"Metallica\".lower() == \"metallica\" # Will return True\n",
        "\n",
        "# Removing whitespaces that user my input by mistake.\n",
        "#\" Metallica \".strip() == \"Metallica\" # Will return True\n",
        "\n",
        "# You could also use a combiation\n",
        "\" MeTaLLiCA \".strip().title() == \"Metallica\" # Will return True"
      ],
      "metadata": {
        "colab": {
          "base_uri": "https://localhost:8080/"
        },
        "id": "tyIZHxtuOARs",
        "outputId": "309dcef7-88f6-466d-c865-ecca92b1e1dc"
      },
      "execution_count": null,
      "outputs": [
        {
          "output_type": "execute_result",
          "data": {
            "text/plain": [
              "True"
            ]
          },
          "metadata": {},
          "execution_count": 22
        }
      ]
    },
    {
      "cell_type": "markdown",
      "source": [
        "*Branching*"
      ],
      "metadata": {
        "id": "CxYLH4aDQkq4"
      }
    },
    {
      "cell_type": "code",
      "source": [
        "# If statement example\n",
        "\n",
        "'''By uncommenting the second variable will illustrate the point about the\n",
        "indentation'''\n",
        "\n",
        "wintersport = \"Snowboarding\".lower()\n",
        "#wintersport = \"Skiing\".lower()\n",
        "\n",
        "#expression that can be true or false\n",
        "\n",
        "# Will only run if condition is met\n",
        "if wintersport != \"skiing\":\n",
        "\n",
        "    #within an indent, we have the expression that is run if the condition is true\n",
        "    print(\"You are a Snowboarder!\" )\n",
        "\n",
        "#runs if False\n",
        "else:\n",
        "    print(\"You must be a Skier!\")\n",
        "\n",
        "#Runs regardless if the condition is true or false\n",
        "print(\"\\n Who's next?\")"
      ],
      "metadata": {
        "colab": {
          "base_uri": "https://localhost:8080/"
        },
        "id": "CxiHfI1uQjHw",
        "outputId": "6f6e5b51-eae2-43bc-c06a-b74aa361b320"
      },
      "execution_count": null,
      "outputs": [
        {
          "output_type": "stream",
          "name": "stdout",
          "text": [
            "You are a Snowboarder!\n",
            "\n",
            " Who's next?\n"
          ]
        }
      ]
    },
    {
      "cell_type": "code",
      "source": [
        "# Condition statement example\n",
        "\n",
        "album_year = 1995\n",
        "#album_year = 1978\n",
        "\n",
        "if album_year > 1995:\n",
        "    print(\"Album year is greater than 1995\")\n",
        "\n",
        "elif album_year == 1995:\n",
        "    print(\"Album year is 1995, the year Fred Böhler died.\")\n",
        "\n",
        "else:\n",
        "    print(\"less than 1995\")\n",
        "\n",
        "print(\"\\n Weren't there much better singers in the past?\")"
      ],
      "metadata": {
        "colab": {
          "base_uri": "https://localhost:8080/"
        },
        "id": "ODHNEgI-UbkQ",
        "outputId": "578f7987-c4c1-426b-aba5-9cfc83ac19fa"
      },
      "execution_count": null,
      "outputs": [
        {
          "output_type": "stream",
          "name": "stdout",
          "text": [
            "Album year is 1995, the year Fred Böhler died.\n",
            "\n",
            " Weren't there much better singers in the past?\n"
          ]
        }
      ]
    },
    {
      "cell_type": "markdown",
      "source": [
        "*Logical Operators*"
      ],
      "metadata": {
        "id": "iwFe1Fq2V03B"
      }
    },
    {
      "cell_type": "code",
      "source": [
        "album_rating = 8.5\n",
        "#album_rating = 8\n",
        "\n",
        "if album_rating > 8:\n",
        "  print(\"This album is Amazing!\")\n",
        "\n",
        "elif album_rating <= 8:\n",
        "  print(\"This album is ok.\")"
      ],
      "metadata": {
        "colab": {
          "base_uri": "https://localhost:8080/"
        },
        "id": "GLx_WTE5V5Mz",
        "outputId": "646420c9-f6e9-4dd7-fd54-59c20856708b"
      },
      "execution_count": null,
      "outputs": [
        {
          "output_type": "stream",
          "name": "stdout",
          "text": [
            "This album is Amazing!\n"
          ]
        }
      ]
    },
    {
      "cell_type": "markdown",
      "source": [
        "*Loops*"
      ],
      "metadata": {
        "id": "ENb-wL5FUoVy"
      }
    },
    {
      "cell_type": "markdown",
      "source": [
        "*For Loop*"
      ],
      "metadata": {
        "id": "827v-omN1hq_"
      }
    },
    {
      "cell_type": "code",
      "source": [
        "# for Loop to print out every element in a list\n",
        "\n",
        "years = [1975,1978,1999,2018,2022,2023]\n",
        "N = len(years)\n",
        "\n",
        "for i in range(N):\n",
        "  # Because of the identation, it's executed until true.\n",
        "  # In our case that is until the list ends.\n",
        "  print(years[i])\n",
        "\n",
        "print(\"Priting without using a Loop.\")\n",
        "print(years)"
      ],
      "metadata": {
        "colab": {
          "base_uri": "https://localhost:8080/"
        },
        "id": "Nxi-NDOSvGov",
        "outputId": "435d49d5-69f5-41bd-de82-e323db6e1ad4"
      },
      "execution_count": null,
      "outputs": [
        {
          "output_type": "stream",
          "name": "stdout",
          "text": [
            "1975\n",
            "1978\n",
            "1999\n",
            "2018\n",
            "2022\n",
            "2023\n",
            "Priting without using a Loop.\n",
            "[1975, 1978, 1999, 2018, 2022, 2023]\n"
          ]
        }
      ]
    },
    {
      "cell_type": "code",
      "source": [
        "\"\"\"If one only needs the values without the index\n",
        "This is a pure Python approach\"\"\"\n",
        "\n",
        "for year in years:\n",
        "  print(year)\n"
      ],
      "metadata": {
        "colab": {
          "base_uri": "https://localhost:8080/"
        },
        "id": "1uP7zDSsxsgW",
        "outputId": "a46e89c9-1d5e-4f4e-cce7-0846e5682b0b"
      },
      "execution_count": null,
      "outputs": [
        {
          "output_type": "stream",
          "name": "stdout",
          "text": [
            "1975\n",
            "1978\n",
            "1999\n",
            "2018\n",
            "2022\n",
            "2023\n"
          ]
        }
      ]
    },
    {
      "cell_type": "code",
      "source": [
        "# Creating a list of numbers, using a loop\n",
        "\n",
        "numbers_l = []\n",
        "\n",
        "for i in range(0, 8):\n",
        "    numbers_l.append(i)\n",
        "\n",
        "numbers_l"
      ],
      "metadata": {
        "colab": {
          "base_uri": "https://localhost:8080/"
        },
        "id": "4ULwk_ZCzTPV",
        "outputId": "be7e8e41-3a28-4661-9109-c33114379ff0"
      },
      "execution_count": null,
      "outputs": [
        {
          "output_type": "execute_result",
          "data": {
            "text/plain": [
              "[0, 1, 2, 3, 4, 5, 6, 7]"
            ]
          },
          "metadata": {},
          "execution_count": 28
        }
      ]
    },
    {
      "cell_type": "code",
      "source": [
        "# Loop through the list and iterate on both index and element value\n",
        "\n",
        "squares=['red', 'yellow', 'green', 'purple', 'blue']\n",
        "\n",
        "# i will stand for index, while square stands for the word in the list\n",
        "# using enumerate() allows us to establish the index position of each word.\n",
        "\n",
        "for i, square in enumerate(squares):\n",
        "    print(i, square)"
      ],
      "metadata": {
        "colab": {
          "base_uri": "https://localhost:8080/"
        },
        "id": "vUH4G_JL0n7E",
        "outputId": "9e023d76-b761-4b20-a1df-aa9edf05287e"
      },
      "execution_count": null,
      "outputs": [
        {
          "output_type": "stream",
          "name": "stdout",
          "text": [
            "0 red\n",
            "1 yellow\n",
            "2 green\n",
            "3 purple\n",
            "4 blue\n"
          ]
        }
      ]
    },
    {
      "cell_type": "markdown",
      "source": [
        "*While Loop*"
      ],
      "metadata": {
        "id": "gvVzs2Xj1qVH"
      }
    },
    {
      "cell_type": "code",
      "source": [
        "# While Loop Example\n",
        "\n",
        "dates = [1982, 1980, 1973, 2000, 2010, 2011, 2018, 2022, 2023]\n",
        "\n",
        "#Counter (When using addition, always start at 0)\n",
        "i = 0\n",
        "\n",
        "# The year variable is set to 0 as we aren't expecting any year 0 to be in our list.\n",
        "year = 0\n",
        "\n",
        "while(year != 2023):\n",
        "    #the variable year is re-set to the current iteration date in the list\n",
        "    year = dates[i]\n",
        "    # i is the counter, which we increase by 1, after each iteration.\n",
        "    i = i + 1\n",
        "    # Will print every date we have gone through to verify the process of our while loop\n",
        "    print(year)\n",
        "\n",
        "print(\"It took \", i ,\"repetitions to get out of loop.\")"
      ],
      "metadata": {
        "colab": {
          "base_uri": "https://localhost:8080/"
        },
        "id": "L7LEPxzk1oLz",
        "outputId": "bfacb6ba-4a84-4f05-eac8-bebb38b287b3"
      },
      "execution_count": null,
      "outputs": [
        {
          "output_type": "stream",
          "name": "stdout",
          "text": [
            "1982\n",
            "1980\n",
            "1973\n",
            "2000\n",
            "2010\n",
            "2011\n",
            "2018\n",
            "2022\n",
            "2023\n",
            "It took  9 repetitions to get out of loop.\n"
          ]
        }
      ]
    },
    {
      "cell_type": "code",
      "source": [
        "numbers = []\n",
        "\n",
        "for i in range(-5,6):\n",
        "  numbers.append(i)\n",
        "\n",
        "  # Will print each number, after each loop\n",
        "  print(i)\n",
        "\n",
        "# Will create a list at the end (not indented)\n",
        "print(\"\\n Using my loop to create a list of numbers.\")\n",
        "numbers\n",
        "\n",
        "# Would we not indent our print statement, we would only return the last number in our loop.\n",
        "print(\"\\n\",i)"
      ],
      "metadata": {
        "colab": {
          "base_uri": "https://localhost:8080/"
        },
        "id": "TCPfoICj36B4",
        "outputId": "b4512c66-93ce-4d9c-98fb-15d565686bf8"
      },
      "execution_count": null,
      "outputs": [
        {
          "output_type": "stream",
          "name": "stdout",
          "text": [
            "-5\n",
            "-4\n",
            "-3\n",
            "-2\n",
            "-1\n",
            "0\n",
            "1\n",
            "2\n",
            "3\n",
            "4\n",
            "5\n",
            "\n",
            " Using my loop to create a list of numbers.\n",
            "\n",
            " 5\n"
          ]
        }
      ]
    },
    {
      "cell_type": "code",
      "source": [
        "# Printing our Genres using Pythonic approach with corrected spelling.\n",
        "\n",
        "Genres=[ 'rock', 'R&B', 'Soundtrack', 'R&B', 'soul', 'pop']\n",
        "\n",
        "for genre in Genres:\n",
        "  print(genre.title())"
      ],
      "metadata": {
        "colab": {
          "base_uri": "https://localhost:8080/"
        },
        "id": "MCD8SS3r6JDJ",
        "outputId": "515070d5-a43b-468c-cca4-7b3fbb3f4db9"
      },
      "execution_count": null,
      "outputs": [
        {
          "output_type": "stream",
          "name": "stdout",
          "text": [
            "Rock\n",
            "R&B\n",
            "Soundtrack\n",
            "R&B\n",
            "Soul\n",
            "Pop\n"
          ]
        }
      ]
    },
    {
      "cell_type": "code",
      "source": [
        "# While loop\n",
        "\n",
        "PlayListRatings = [10, 9.5, 10, 8, 7.5, 5, 10, 10]\n",
        "\n",
        "# Initialize the counting index\n",
        "i = 1\n",
        "\n",
        "# Set the initial Rating to the first element of the list\n",
        "Rating = PlayListRatings[0]\n",
        "\n",
        "# Continue the loop as long as the Rating is 6 or higher\n",
        "while(Rating >= 6):\n",
        "    # Print the current Rating\n",
        "    print(Rating)\n",
        "\n",
        "    # Update Rating to the next element using \"i\" in the list\n",
        "    Rating = PlayListRatings[i]\n",
        "\n",
        "    # Increment the index to move to the next element for the next iteration\n",
        "    i = i + 1"
      ],
      "metadata": {
        "colab": {
          "base_uri": "https://localhost:8080/"
        },
        "id": "OgqbY28v6kDi",
        "outputId": "a20b0dd1-33b9-4b6c-f3e0-442f9c9f06a5"
      },
      "execution_count": null,
      "outputs": [
        {
          "output_type": "stream",
          "name": "stdout",
          "text": [
            "10\n",
            "9.5\n",
            "10\n",
            "8\n",
            "7.5\n"
          ]
        }
      ]
    },
    {
      "cell_type": "code",
      "source": [
        "# Pythonic approach to achieve the same as above\n",
        "\n",
        "PlayListRatings = [10, 9.5, 10, 8, 7.5, 5, 10, 10]\n",
        "\n",
        "for i,Rating in enumerate(PlayListRatings):\n",
        "    if Rating < 6:\n",
        "        # If Rating is less than 6, break will let you exit your loop\n",
        "        break\n",
        "    print(i,Rating)\n"
      ],
      "metadata": {
        "colab": {
          "base_uri": "https://localhost:8080/"
        },
        "id": "qDLGxyI69dc0",
        "outputId": "cfd06f37-20a3-4a54-ed6e-704f28153e07"
      },
      "execution_count": null,
      "outputs": [
        {
          "output_type": "stream",
          "name": "stdout",
          "text": [
            "0 10\n",
            "1 9.5\n",
            "2 10\n",
            "3 8\n",
            "4 7.5\n"
          ]
        }
      ]
    },
    {
      "cell_type": "code",
      "source": [
        "# Write your code below and press Shift+Enter to execute\n",
        "\n",
        "squares = ['orange', 'orange', 'purple', 'blue ', 'orange']\n",
        "new_squares = []\n",
        "\n",
        "#counter\n",
        "i = 0\n",
        "\n",
        "# i will start squares list at index 0\n",
        "while squares[i] == \"orange\":\n",
        "  # appending string to new_squares if equals to orange\n",
        "  new_squares.append(squares[i])\n",
        "  # we increase the counter after each iteration\n",
        "  i = i +1\n",
        "  #printing each result of our loop\n",
        "  print(new_squares)\n",
        "#print our result at the end,\n",
        "print(\"\\n\" + str(new_squares))\n",
        "#avoiding space created by using a comma.\n",
        "print(\"\\n\",new_squares)"
      ],
      "metadata": {
        "colab": {
          "base_uri": "https://localhost:8080/"
        },
        "id": "q8bIHdSb-mXJ",
        "outputId": "17e44473-8887-452c-c09c-9e8ae9332e7c"
      },
      "execution_count": null,
      "outputs": [
        {
          "output_type": "stream",
          "name": "stdout",
          "text": [
            "['orange']\n",
            "['orange', 'orange']\n",
            "\n",
            "['orange', 'orange']\n",
            "\n",
            " ['orange', 'orange']\n"
          ]
        }
      ]
    },
    {
      "cell_type": "markdown",
      "source": [
        "*Lists*"
      ],
      "metadata": {
        "id": "2rpfwanEs_qR"
      }
    },
    {
      "cell_type": "code",
      "source": [
        "# Using .extend to add elements to the end of a list\n",
        "\n",
        "\n",
        "L0= [\"Michael Jackson\", 10.2]\n",
        "L1 = L0[:]\n",
        "\n",
        "# .extend() MODIFIES an existing list it does NOT create a new list.\n",
        "# --> you don't assign the result back to a list variable!\n",
        "\n",
        "L1.extend(['pop', \"you'll be dancing like Michael Jackson\"])\n",
        "\n",
        "print(L0)\n",
        "print(L1)"
      ],
      "metadata": {
        "colab": {
          "base_uri": "https://localhost:8080/"
        },
        "id": "55HiMZd5QFtq",
        "outputId": "67dff7ef-7b44-477a-816a-40bd277c0094"
      },
      "execution_count": null,
      "outputs": [
        {
          "output_type": "stream",
          "name": "stdout",
          "text": [
            "['Michael Jackson', 10.2]\n",
            "['Michael Jackson', 10.2, 'pop', \"you'll be dancing like Michael Jackson\"]\n"
          ]
        }
      ]
    },
    {
      "cell_type": "code",
      "source": [
        "# Splitting a string one paramater at the time\n",
        "\n",
        "by_fullstop = 'cristian.ravalli@gmail.com'.split('.')\n",
        "print(by_fullstop)"
      ],
      "metadata": {
        "colab": {
          "base_uri": "https://localhost:8080/"
        },
        "id": "7ILDcyEsx0NF",
        "outputId": "08645bfd-8352-4d96-81f3-d8e27ebe750f"
      },
      "execution_count": null,
      "outputs": [
        {
          "output_type": "stream",
          "name": "stdout",
          "text": [
            "['cristian', 'ravalli@gmail', 'com']\n"
          ]
        }
      ]
    },
    {
      "cell_type": "code",
      "source": [
        "# Splitting of the @\n",
        "\n",
        "by_at = by_fullstop[1].split('@')\n",
        "print(by_at)"
      ],
      "metadata": {
        "colab": {
          "base_uri": "https://localhost:8080/"
        },
        "id": "fKOb7H5SzwKj",
        "outputId": "05c99a5a-47d6-45a0-ccdf-9c8b66048443"
      },
      "execution_count": null,
      "outputs": [
        {
          "output_type": "stream",
          "name": "stdout",
          "text": [
            "['ravalli', 'gmail']\n"
          ]
        }
      ]
    },
    {
      "cell_type": "code",
      "source": [
        "# Putting it all back together\n",
        "\n",
        "by_fullstop[1] = by_at[0]\n",
        "print(by_fullstop)"
      ],
      "metadata": {
        "colab": {
          "base_uri": "https://localhost:8080/"
        },
        "id": "yPSWOOqi0CaJ",
        "outputId": "c33d8ed7-53c0-4617-ccae-d4f478ee734d"
      },
      "execution_count": null,
      "outputs": [
        {
          "output_type": "stream",
          "name": "stdout",
          "text": [
            "['cristian', 'ravalli', 'com']\n"
          ]
        }
      ]
    },
    {
      "cell_type": "code",
      "source": [
        "# adding gmail into the list\n",
        "\n",
        "by_fullstop.insert(2,'gmail')\n",
        "print(by_fullstop)"
      ],
      "metadata": {
        "colab": {
          "base_uri": "https://localhost:8080/"
        },
        "id": "b81FJs791KDs",
        "outputId": "bc8574ce-b12a-4c78-8aff-fe120b4ab63d"
      },
      "execution_count": null,
      "outputs": [
        {
          "output_type": "stream",
          "name": "stdout",
          "text": [
            "['cristian', 'ravalli', 'gmail', 'com']\n"
          ]
        }
      ]
    },
    {
      "cell_type": "code",
      "source": [
        "# We could have solved that all in one go using Regex\n",
        "\n",
        "import re\n",
        "\n",
        "eMail = 'cristian.ravalli@gmail.com'\n",
        "\n",
        "\n",
        "# Define the delimiters using a raw string (r)\n",
        "# As in Regex the dot is a special character matching any character\n",
        "# we need to use the backslash to use it as a literal\n",
        "# The pipe stands for OR\n",
        "\n",
        "delimiters = r'\\.|@'\n",
        "\n",
        "\n",
        "result = re.split(delimiters, eMail)\n",
        "\n",
        "print(result)"
      ],
      "metadata": {
        "colab": {
          "base_uri": "https://localhost:8080/"
        },
        "id": "QkL41n_izJ-a",
        "outputId": "40123f22-607b-4728-f6b7-961270eb8889"
      },
      "execution_count": null,
      "outputs": [
        {
          "output_type": "stream",
          "name": "stdout",
          "text": [
            "['cristian', 'ravalli', 'gmail', 'com']\n"
          ]
        }
      ]
    },
    {
      "cell_type": "markdown",
      "source": [
        "*Copy and Clone*"
      ],
      "metadata": {
        "id": "mG0xgUHiaE1D"
      }
    },
    {
      "cell_type": "code",
      "source": [
        "# Referencing (copy) is NOT cloning\n",
        "\n",
        "# Referencing\n",
        "\n",
        "A = [\"Michael Jackson\", 10.2]\n",
        "copy_A = A\n",
        "\n",
        "print('A:', A,\"\\n\")\n",
        "print('Copy of A', copy_A)\n",
        "\n",
        "# Changing A\n",
        "\"! Will result in a change in its copy too!\"\n",
        "A[0] = \"Bruce Dickinson\"\n",
        "\n",
        "print(\"Copy of A, after changing A:\",copy_A)\n"
      ],
      "metadata": {
        "colab": {
          "base_uri": "https://localhost:8080/"
        },
        "id": "mHBe3OID4m_X",
        "outputId": "a47dcec6-fa52-4b58-8490-012e0e929af0"
      },
      "execution_count": null,
      "outputs": [
        {
          "output_type": "stream",
          "name": "stdout",
          "text": [
            "A: ['Michael Jackson', 10.2] \n",
            "\n",
            "Copy of A ['Michael Jackson', 10.2]\n",
            "Copy of A, after changing A: ['Bruce Dickinson', 10.2]\n"
          ]
        }
      ]
    },
    {
      "cell_type": "code",
      "source": [
        "# Cloning a list\n",
        "\n",
        "A2 = [\"Michael Jackson\", 10.2]\n",
        "\n",
        "#clone\n",
        "clone_A2 = A2[:]\n",
        "\n",
        "# Changing A2\n",
        "A2[0] = \"Bruce Dickinson\"\n",
        "\n",
        "print('A2:', A2,\"\\n\")\n",
        "print('Clone of A2', clone_A2)"
      ],
      "metadata": {
        "colab": {
          "base_uri": "https://localhost:8080/"
        },
        "id": "2Y6fEW9aeItM",
        "outputId": "1148c541-8835-4fdd-8a7f-b6fd3bf61d6a"
      },
      "execution_count": null,
      "outputs": [
        {
          "output_type": "stream",
          "name": "stdout",
          "text": [
            "A2: ['Bruce Dickinson', 10.2] \n",
            "\n",
            "Clone of A2 ['Michael Jackson', 10.2]\n"
          ]
        }
      ]
    },
    {
      "cell_type": "markdown",
      "source": [
        "*Sets UNIQUE collection of objects*"
      ],
      "metadata": {
        "id": "I0DQWfyGgD5S"
      }
    },
    {
      "cell_type": "code",
      "source": [
        "# Creating a set\n",
        "\n",
        "# A list can contain duplicates\n",
        "list1 = [\"pop\", \"pop\", \"soul\", \"hard rock\", \"rock\", \"R&B\", \"rock\", \"disco\"]\n",
        "print(list1)\n",
        "print(\"Length ob objects as a list (including duplicates)\",len(list1),\"\\n\")\n",
        "\n",
        "# Converting a list into a set removes duplicates\n",
        "set1 = set(list1)\n",
        "print(set1)\n",
        "print(\"Tuple will remove duplicates\",len(set1))"
      ],
      "metadata": {
        "colab": {
          "base_uri": "https://localhost:8080/"
        },
        "id": "U6nsLkmGgEDM",
        "outputId": "24726c54-bf33-4b7a-fdfc-91c8bd253cc2"
      },
      "execution_count": null,
      "outputs": [
        {
          "output_type": "stream",
          "name": "stdout",
          "text": [
            "['pop', 'pop', 'soul', 'hard rock', 'rock', 'R&B', 'rock', 'disco']\n",
            "Length ob objects as a list (including duplicates) 8 \n",
            "\n",
            "{'rock', 'R&B', 'disco', 'pop', 'hard rock', 'soul'}\n",
            "Tuple will remove duplicates 6\n"
          ]
        }
      ]
    },
    {
      "cell_type": "code",
      "source": [
        "# Operating on a set\n",
        "\n",
        "set1.add(\"techno\")\n",
        "print(set1)\n",
        "\n",
        "set1.remove(\"techno\")\n",
        "print(set1)\n",
        "\n",
        "set1.add(\"hardcore\")\n",
        "print(set1)\n",
        "\n",
        "\"hardcore\" in set1"
      ],
      "metadata": {
        "colab": {
          "base_uri": "https://localhost:8080/"
        },
        "id": "B_KVjwPKjEsU",
        "outputId": "968b1af6-89b4-44cc-c57b-8b547d0babf3"
      },
      "execution_count": null,
      "outputs": [
        {
          "output_type": "stream",
          "name": "stdout",
          "text": [
            "{'rock', 'R&B', 'disco', 'techno', 'pop', 'hard rock', 'soul'}\n",
            "{'rock', 'R&B', 'disco', 'pop', 'hard rock', 'soul'}\n",
            "{'rock', 'R&B', 'disco', 'pop', 'hard rock', 'hardcore', 'soul'}\n"
          ]
        },
        {
          "output_type": "execute_result",
          "data": {
            "text/plain": [
              "True"
            ]
          },
          "metadata": {},
          "execution_count": 14
        }
      ]
    },
    {
      "cell_type": "code",
      "source": [
        "# Logical Operators on a set\n",
        "\n",
        "# Sample Sets\n",
        "\n",
        "album_set1 = set([\"Thriller\", 'AC/DC', 'Master of Puppets'])\n",
        "album_set2 = set([ \"AC/DC\", \"Master of Puppets\", \"The Dark Side of the Moon\"])\n",
        "\n",
        "album_set1, album_set2"
      ],
      "metadata": {
        "colab": {
          "base_uri": "https://localhost:8080/"
        },
        "id": "LytY-V8Zjt2L",
        "outputId": "25ccfc5e-8388-45ca-9d18-538fd89c335a"
      },
      "execution_count": null,
      "outputs": [
        {
          "output_type": "execute_result",
          "data": {
            "text/plain": [
              "({'AC/DC', 'Master of Puppets', 'Thriller'},\n",
              " {'AC/DC', 'Master of Puppets', 'The Dark Side of the Moon'})"
            ]
          },
          "metadata": {},
          "execution_count": 2
        }
      ]
    },
    {
      "cell_type": "code",
      "source": [
        "# Find the intersection of the two\n",
        "\n",
        "intersection = album_set1 & album_set2\n",
        "\n",
        "# Find the elements only contained in one of each set\n",
        "\n",
        "unique = album_set1.difference(album_set2)\n",
        "\n",
        "# Find the difference\n",
        "difference1 = album_set1.difference(album_set2)\n",
        "difference2 = album_set2.difference(album_set1)\n",
        "\n",
        "# Find the union\n",
        "union = album_set1.union(album_set2)\n",
        "\n",
        "\n",
        "# Check if subset\n",
        "album_set1.issubset(album_set2)\n",
        "\n",
        "print(\"Intersection:\",intersection)\n",
        "print(\"Unique values:\",unique)\n",
        "print(\"Values only in 1st set:\",difference1)\n",
        "print(\"Values only in 2nd set:\", difference2)\n",
        "print(\"\\nUnion:\",union)"
      ],
      "metadata": {
        "colab": {
          "base_uri": "https://localhost:8080/"
        },
        "id": "zZ4xye0BkSd7",
        "outputId": "b732cb2a-8e8d-45ca-f953-1603879bb6b1"
      },
      "execution_count": null,
      "outputs": [
        {
          "output_type": "stream",
          "name": "stdout",
          "text": [
            "Intersection: {'AC/DC', 'Master of Puppets'}\n",
            "Unique values: {'Thriller'}\n",
            "Values only in 1st set: {'Thriller'}\n",
            "Values only in 2nd set: {'The Dark Side of the Moon'}\n",
            "\n",
            "Union: {'AC/DC', 'Thriller', 'The Dark Side of the Moon', 'Master of Puppets'}\n"
          ]
        }
      ]
    },
    {
      "cell_type": "markdown",
      "source": [
        "*Dictionaries*"
      ],
      "metadata": {
        "id": "J_L_SZb2B5a-"
      }
    },
    {
      "cell_type": "code",
      "source": [
        "blockbusters = {\n",
        "    \"Avengers: Endgame\": {\n",
        "        \"year\": 2019,\n",
        "        \"worldwide_gross\": \"$2.797 billion\"\n",
        "    },\n",
        "    \"Avatar: The Way of Water\": {\n",
        "        \"year\": 2022,\n",
        "        \"worldwide_gross\": \"$2.320 billion\"\n",
        "    },\n",
        "    \"Top Gun: Maverick\": {\n",
        "        \"year\": 2022,\n",
        "        \"worldwide_gross\": \"$1.488 billion\"\n",
        "    },\n",
        "    \"Spider-Man: No Way Home\": {\n",
        "        \"year\": 2021,\n",
        "        \"worldwide_gross\": \"$1.921 billion\"\n",
        "    },\n",
        "    \"The Lion King\": {\n",
        "        \"year\": 2019,\n",
        "        \"worldwide_gross\": \"$1.663 billion\"\n",
        "    },\n",
        "    \"Jurassic World: Fallen Kingdom\": {\n",
        "        \"year\": 2018,\n",
        "        \"worldwide_gross\": \"$1.310 billion\"\n",
        "    },\n",
        "    \"Frozen II\": {\n",
        "        \"year\": 2019,\n",
        "        \"worldwide_gross\": \"$1.450 billion\"\n",
        "    },\n",
        "    \"Joker\": {\n",
        "        \"year\": 2019,\n",
        "        \"worldwide_gross\": \"$1.074 billion\"\n",
        "    },\n",
        "    \"The Batman\": {\n",
        "        \"year\": 2022,\n",
        "        \"worldwide_gross\": \"$770.8 million\"\n",
        "    },\n",
        "    \"Black Panther: Wakanda Forever\": {\n",
        "        \"year\": 2022,\n",
        "        \"worldwide_gross\": \"$859.2 million\"\n",
        "    }\n",
        "}\n"
      ],
      "metadata": {
        "id": "FOZ12zy7MsHI"
      },
      "execution_count": null,
      "outputs": []
    },
    {
      "cell_type": "code",
      "source": [
        "# Get all keys, values in dictionary\n",
        "\n",
        "blockbusters.keys(),blockbusters.values()"
      ],
      "metadata": {
        "colab": {
          "base_uri": "https://localhost:8080/"
        },
        "id": "YkTruQKWNZLP",
        "outputId": "3097a26a-a784-4365-8a28-f0dd5897436c"
      },
      "execution_count": null,
      "outputs": [
        {
          "output_type": "execute_result",
          "data": {
            "text/plain": [
              "(dict_keys(['Avengers: Endgame', 'Avatar: The Way of Water', 'Top Gun: Maverick', 'Spider-Man: No Way Home', 'The Lion King', 'Jurassic World: Fallen Kingdom', 'Frozen II', 'Joker', 'The Batman', 'Black Panther: Wakanda Forever']),\n",
              " dict_values([{'year': 2019, 'worldwide_gross': '$2.797 billion'}, {'year': 2022, 'worldwide_gross': '$2.320 billion'}, {'year': 2022, 'worldwide_gross': '$1.488 billion'}, {'year': 2021, 'worldwide_gross': '$1.921 billion'}, {'year': 2019, 'worldwide_gross': '$1.663 billion'}, {'year': 2018, 'worldwide_gross': '$1.310 billion'}, {'year': 2019, 'worldwide_gross': '$1.450 billion'}, {'year': 2019, 'worldwide_gross': '$1.074 billion'}, {'year': 2022, 'worldwide_gross': '$770.8 million'}, {'year': 2022, 'worldwide_gross': '$859.2 million'}]))"
            ]
          },
          "metadata": {},
          "execution_count": 39
        }
      ]
    },
    {
      "cell_type": "markdown",
      "source": [
        "*Solving using Decision Tree*"
      ],
      "metadata": {
        "id": "tlHKiVOIP3BD"
      }
    },
    {
      "cell_type": "code",
      "source": [
        "from IPython.display import Image\n",
        "\n",
        "#Actual URL of your image replacing the \"github.com\" part with \"raw.githubusercontent.com\"\n",
        "image_url = \"https://raw.githubusercontent.com/CristianRavalli/CAS-INFE/main/DecisionTreeHalving.png\"\n",
        "\n",
        "display(Image(url=image_url))"
      ],
      "metadata": {
        "colab": {
          "base_uri": "https://localhost:8080/",
          "height": 243
        },
        "id": "dA8K1StKQ9Ln",
        "outputId": "ba02123d-da6e-4de4-9537-4dc78d10929a"
      },
      "execution_count": null,
      "outputs": [
        {
          "output_type": "display_data",
          "data": {
            "text/html": [
              "<img src=\"https://raw.githubusercontent.com/CristianRavalli/CAS-INFE/main/DecisionTreeHalving.png\"/>"
            ],
            "text/plain": [
              "<IPython.core.display.Image object>"
            ]
          },
          "metadata": {}
        }
      ]
    },
    {
      "cell_type": "code",
      "source": [
        "# Creating Input Box account for potential whitespaces (.strip) and capitalised entries (.lower) by the user.\n",
        "\n",
        "inp = input(\"Please think of a number from 1 to 10. Ready? Please type 'yes' or 'y' when you are.\")\n",
        "\n",
        "# The below reduces any provided entry like yeah, yo, etc. to just the first letter.\n",
        "if inp.startswith('y'):\n",
        "\n",
        "  # Now we are going up the decision tree all the way up form 5 to 10.\n",
        "\n",
        "  inp = input(\"Is the number greater than 5?\")\n",
        "  if inp.startswith('y'):\n",
        "    inp = input(\"Is the number greater than 7?\")\n",
        "    if inp.startswith('y'):\n",
        "      inp = input(\"Is the number greater than 9?\")\n",
        "      if inp.startswith('y'):\n",
        "        print(\"\\nThe number is 10.\")\n",
        "\n",
        "      # Working our way back to account for \"No\" answers equal or bigger than 7.\n",
        "      else:\n",
        "        inp = input(\"Is the number equal to 8?\")\n",
        "        if inp.startswith('y'):\n",
        "          print(\"\\nThe number is 8.\")\n",
        "        else:\n",
        "          print(\"\\nThe number is 9.\")\n",
        "\n",
        "    # This loop is aligned with greater than 7, because we are now evaluating that branch in reverse\n",
        "    else:\n",
        "      inp = input(\"Is the number equal to 7?\")\n",
        "      if inp.startswith('y'):\n",
        "        print(\"\\nThe number is 7.\")\n",
        "      else:\n",
        "        print(\"\\nThe number is 6.\")\n",
        "\n",
        "  # This loop is aligned with greater than 5, because we are now evaluating that branch Bottom up\n",
        "  else:\n",
        "    inp = input(\"Is the number greater than 2?\")\n",
        "    if inp.startswith('y'):\n",
        "      inp = input(\"Is the number greater than 4?\")\n",
        "      if inp.startswith('y'):\n",
        "        print(\"\\nThe number is 5.\")\n",
        "      else:\n",
        "        inp = input(\"Is the number equal to 3?\")\n",
        "        if inp.startswith('y'):\n",
        "          print(\"\\nThe number is 3.\")\n",
        "        else:\n",
        "          print(\"\\nThe number is 4.\")\n",
        "\n",
        "    # This loop is aligned with greater than 2, because we are now evaulating that brnach in reverse\n",
        "    else:\n",
        "      inp = input(\"Is the number equal to 1?\")\n",
        "      if inp.startswith('y'):\n",
        "        print(\"\\nThe number is 1.\")\n",
        "      else:\n",
        "        print(\"\\nThe number is 2.\")\n",
        "\n",
        "print(\"\\nThanks for coming in!\")"
      ],
      "metadata": {
        "colab": {
          "base_uri": "https://localhost:8080/"
        },
        "id": "n_7L-pwSvebQ",
        "outputId": "1f68dbbc-b6dc-4c59-d09e-2fd968683caa"
      },
      "execution_count": null,
      "outputs": [
        {
          "output_type": "stream",
          "name": "stdout",
          "text": [
            "Please think of a number from 1 to 10. Ready? Please type 'yes' or 'y' when you are.y\n",
            "Is the number greater than 5?y\n",
            "Is the number greater than 7?y\n",
            "Is the number greater than 9?y\n",
            "\n",
            "The number is 10.\n",
            "\n",
            "Thanks for coming in!\n"
          ]
        }
      ]
    },
    {
      "cell_type": "code",
      "source": [
        "# Assume str_number is a string containing digits\n",
        "str_number = \"73167176531330624919225119674426574742355349194934\"  # Example number\n",
        "\n",
        "# Initialize variables to store the largest product and its starting position\n",
        "largest_product = 0\n",
        "at_position = 0\n",
        "\n",
        "# Loop through the string, considering each group of 5 consecutive digits\n",
        "for i in range(len(str_number) - 4):  # Subtract 4 to prevent index out of range\n",
        "    tmp = 1  # Temporary variable to hold the product of the current group\n",
        "\n",
        "    # Multiply the next five digits together\n",
        "    for j in range(5):\n",
        "        tmp *= int(str_number[i + j])  # Convert each character to integer and multiply\n",
        "\n",
        "    # Check if the current product is larger than the largest found so far\n",
        "    if tmp > largest_product:\n",
        "        largest_product = tmp        # Update the largest product\n",
        "        at_position = i              # Update the position\n",
        "\n",
        "    # No need to modify 'i' here; the for-loop controls it\n",
        "\n",
        "# Print the largest product, starting position, and the digit sequence\n",
        "print(\n",
        "    \"Largest product is\",\n",
        "    largest_product,\n",
        "    \"starting at position\",\n",
        "    at_position,\n",
        "    \"(\" + str_number[at_position:at_position + 5] + \")\"\n",
        ")\n"
      ],
      "metadata": {
        "id": "jE8oLwMa6h1Z",
        "colab": {
          "base_uri": "https://localhost:8080/"
        },
        "outputId": "82aa48c8-8f69-4827-8648-84099fa9e825"
      },
      "execution_count": null,
      "outputs": [
        {
          "output_type": "stream",
          "name": "stdout",
          "text": [
            "Largest product is 6048 starting at position 25 (96744)\n"
          ]
        }
      ]
    },
    {
      "cell_type": "markdown",
      "source": [
        "*Christmas Tree Loop*"
      ],
      "metadata": {
        "id": "SuaJEcMKzKwQ"
      }
    },
    {
      "cell_type": "code",
      "source": [
        "# This initalises two variables i and high both at 0\n",
        "i = hight = 0\n",
        "\n",
        "# Prompts user for an input\n",
        "\n",
        "while not hight:\n",
        "    inp = input(\"Hight of Christmas tree \")\n",
        "    # Converts the input to an integer if not 0 else it assigns 0.\n",
        "\n",
        "    hight = int(inp if len(inp) != 0 else 0)\n",
        "\n",
        "    # Checks whether the entered number is bigger than 40.\n",
        "\n",
        "    if hight > 40:\n",
        "        print(\"Tree too big, can't be displayed....\")\n",
        "        hight = 0\n",
        "        continue\n",
        "    # Exits (breaks) the loop if integer negative.\n",
        "\n",
        "    elif hight < 0:\n",
        "        print(\"Negative trees???? Bye\")\n",
        "        break\n",
        "    elif hight == 0:\n",
        "        continue\n",
        "\n",
        "    star = \"*\"\n",
        "    stem = '#'\n",
        "    empty = ' '\n",
        "    # Begins a for loop to construct each level of tree.\n",
        "\n",
        "    for i in range(hight):\n",
        "        stars = emptysign = ''\n",
        "\n",
        "        # Creates the necessary spaces on the left side to center the tree.\n",
        "        # The number of spaces decreases at each level.\n",
        "\n",
        "        while len(emptysign) < (hight - 1 - i):\n",
        "            emptysign += empty\n",
        "\n",
        "        # Builds the stars for the current level. i is used for the level it is at.\n",
        "        while len(stars) < (i * 2 + 1):\n",
        "            stars += star\n",
        "\n",
        "        # Prints the combination of spaces and starts for the current level.\n",
        "        print(emptysign + stars)\n",
        "\n",
        "    # Draws the trunk of the tree.\n",
        "    # k as a loop counter\n",
        "    # hight // 5 will set the hight to 1/5 of the tree hight or to 2, if 2 or smaller.\n",
        "    for k in range((hight // 5) if(hight // 5) > 2 else 2):\n",
        "\n",
        "        # {}{}\".format (spaces,trunk)\n",
        "        # (hight - 1 - 1) . Hight - 1 = Index of the last line.\n",
        "        # That minus 1 equals where the trunk can start.\n",
        "        print(\"{}{}\".format(empty * int(hight - 1 - 1), stem * 3))"
      ],
      "metadata": {
        "colab": {
          "base_uri": "https://localhost:8080/"
        },
        "id": "eA7wpRdfzIcc",
        "outputId": "e99cc823-f11e-4fc8-b72e-131213821415"
      },
      "execution_count": null,
      "outputs": [
        {
          "output_type": "stream",
          "name": "stdout",
          "text": [
            "Hight of Christmas tree 15\n",
            "              *\n",
            "             ***\n",
            "            *****\n",
            "           *******\n",
            "          *********\n",
            "         ***********\n",
            "        *************\n",
            "       ***************\n",
            "      *****************\n",
            "     *******************\n",
            "    *********************\n",
            "   ***********************\n",
            "  *************************\n",
            " ***************************\n",
            "*****************************\n",
            "             ###\n",
            "             ###\n",
            "             ###\n"
          ]
        }
      ]
    },
    {
      "cell_type": "markdown",
      "source": [
        "Print following values:\n",
        "\n",
        "- Warmest city in with max temperatures\n",
        "- Highest humidity city with max humidities\n",
        "- Highest pressure in city with max pressures\n",
        "- It is raining in cities\n",
        "- Broken clouds in cities"
      ],
      "metadata": {
        "id": "Fa3JgFkIIWkJ"
      }
    },
    {
      "cell_type": "code",
      "source": [
        "weather_responses = '''\n",
        "[\n",
        "    {\n",
        "        \"clouds\": {\n",
        "            \"all\": 90\n",
        "        },\n",
        "        \"name\": \"Zurich\",\n",
        "        \"coord\": {\n",
        "            \"lat\": 47.37,\n",
        "            \"lon\": 8.55\n",
        "        },\n",
        "        \"sys\": {\n",
        "            \"country\": \"CH\",\n",
        "            \"sunset\": 1417707376,\n",
        "            \"message\": 0.1971,\n",
        "            \"type\": 1,\n",
        "            \"id\": 6007,\n",
        "            \"sunrise\": 1417676164\n",
        "        },\n",
        "        \"weather\": [\n",
        "            {\n",
        "                \"main\": \"Clouds\",\n",
        "                \"id\": 804,\n",
        "                \"icon\": \"04n\",\n",
        "                \"description\": \"overcast clouds\"\n",
        "            }\n",
        "        ],\n",
        "        \"cod\": 200,\n",
        "        \"base\": \"cmc stations\",\n",
        "        \"dt\": 1417726789,\n",
        "        \"main\": {\n",
        "            \"pressure\": 1014,\n",
        "            \"temp_min\": 4,\n",
        "            \"temp_max\": 5,\n",
        "            \"temp\": 4.4,\n",
        "            \"humidity\": 86\n",
        "        },\n",
        "        \"id\": 2657896,\n",
        "        \"wind\": {\n",
        "            \"speed\": 1.32,\n",
        "            \"deg\": 47.5016\n",
        "        }\n",
        "    },\n",
        "    {\n",
        "        \"clouds\": {\n",
        "            \"all\": 90\n",
        "        },\n",
        "        \"name\": \"Geneva\",\n",
        "        \"coord\": {\n",
        "            \"lat\": 46.21,\n",
        "            \"lon\": 6.14\n",
        "        },\n",
        "        \"sys\": {\n",
        "            \"country\": \"Switzerland\",\n",
        "            \"sunset\": 1417708213,\n",
        "            \"message\": 0.1879,\n",
        "            \"type\": 1,\n",
        "            \"id\": 6002,\n",
        "            \"sunrise\": 1417676482\n",
        "        },\n",
        "        \"weather\": [\n",
        "            {\n",
        "                \"main\": \"Clouds\",\n",
        "                \"id\": 804,\n",
        "                \"icon\": \"04n\",\n",
        "                \"description\": \"overcast clouds\"\n",
        "            }\n",
        "        ],\n",
        "        \"cod\": 200,\n",
        "        \"base\": \"cmc stations\",\n",
        "        \"dt\": 1417726200,\n",
        "        \"main\": {\n",
        "            \"pressure\": 1014,\n",
        "            \"temp_min\": 5,\n",
        "            \"temp_max\": 7,\n",
        "            \"temp\": 5.97,\n",
        "            \"humidity\": 87\n",
        "        },\n",
        "        \"id\": 7285902,\n",
        "        \"wind\": {\n",
        "            \"speed\": 0.5,\n",
        "            \"deg\": 0\n",
        "        }\n",
        "    },\n",
        "    {\n",
        "        \"clouds\": {\n",
        "            \"all\": 90\n",
        "        },\n",
        "        \"name\": \"Lausanne\",\n",
        "        \"coord\": {\n",
        "            \"lat\": 46.52,\n",
        "            \"lon\": 6.63\n",
        "        },\n",
        "        \"sys\": {\n",
        "            \"country\": \"CH\",\n",
        "            \"sunset\": 1417708028,\n",
        "            \"message\": 0.0969,\n",
        "            \"type\": 1,\n",
        "            \"id\": 6010,\n",
        "            \"sunrise\": 1417676432\n",
        "        },\n",
        "        \"weather\": [\n",
        "            {\n",
        "                \"main\": \"Clouds\",\n",
        "                \"id\": 804,\n",
        "                \"icon\": \"04n\",\n",
        "                \"description\": \"overcast clouds\"\n",
        "            }\n",
        "        ],\n",
        "        \"cod\": 200,\n",
        "        \"base\": \"cmc stations\",\n",
        "        \"dt\": 1417726496,\n",
        "        \"main\": {\n",
        "            \"pressure\": 1014,\n",
        "            \"temp_min\": 2.3,\n",
        "            \"temp_max\": 6,\n",
        "            \"temp\": 4.46,\n",
        "            \"humidity\": 93\n",
        "        },\n",
        "        \"id\": 2659994,\n",
        "        \"wind\": {\n",
        "            \"speed\": 1,\n",
        "            \"deg\": 0\n",
        "        }\n",
        "    },\n",
        "    {\n",
        "        \"clouds\": {\n",
        "            \"all\": 90\n",
        "        },\n",
        "        \"name\": \"Bern\",\n",
        "        \"coord\": {\n",
        "            \"lat\": 46.95,\n",
        "            \"lon\": 7.45\n",
        "        },\n",
        "        \"sys\": {\n",
        "            \"country\": \"CH\",\n",
        "            \"sunset\": 1417707736,\n",
        "            \"message\": 0.0954,\n",
        "            \"type\": 1,\n",
        "            \"id\": 6013,\n",
        "            \"sunrise\": 1417676333\n",
        "        },\n",
        "        \"weather\": [\n",
        "            {\n",
        "                \"main\": \"Clouds\",\n",
        "                \"id\": 804,\n",
        "                \"icon\": \"04n\",\n",
        "                \"description\": \"overcast clouds\"\n",
        "            }\n",
        "        ],\n",
        "        \"cod\": 200,\n",
        "        \"base\": \"cmc stations\",\n",
        "        \"dt\": 1417724400,\n",
        "        \"main\": {\n",
        "            \"pressure\": 1014,\n",
        "            \"temp_min\": 4,\n",
        "            \"temp_max\": 5,\n",
        "            \"temp\": 4.39,\n",
        "            \"humidity\": 93\n",
        "        },\n",
        "        \"id\": 2661552,\n",
        "        \"wind\": {\n",
        "            \"speed\": 1.5,\n",
        "            \"deg\": 0\n",
        "        }\n",
        "    },\n",
        "    {\n",
        "        \"clouds\": {\n",
        "            \"all\": 75\n",
        "        },\n",
        "        \"name\": \"Basel\",\n",
        "        \"coord\": {\n",
        "            \"lat\": 47.56,\n",
        "            \"lon\": 7.57\n",
        "        },\n",
        "        \"sys\": {\n",
        "            \"country\": \"CH\",\n",
        "            \"sunset\": 1417707566,\n",
        "            \"message\": 0.0331,\n",
        "            \"type\": 1,\n",
        "            \"id\": 5646,\n",
        "            \"sunrise\": 1417676443\n",
        "        },\n",
        "        \"weather\": [\n",
        "            {\n",
        "                \"main\": \"Clouds\",\n",
        "                \"id\": 803,\n",
        "                \"icon\": \"04n\",\n",
        "                \"description\": \"broken clouds\"\n",
        "            }\n",
        "        ],\n",
        "        \"cod\": 200,\n",
        "        \"base\": \"cmc stations\",\n",
        "        \"dt\": 1417725889,\n",
        "        \"main\": {\n",
        "            \"pressure\": 1015,\n",
        "            \"temp_min\": 4,\n",
        "            \"temp_max\": 4,\n",
        "            \"temp\": 4,\n",
        "            \"humidity\": 93\n",
        "        },\n",
        "        \"id\": 2661604,\n",
        "        \"wind\": {\n",
        "            \"speed\": 1.5,\n",
        "            \"deg\": 290\n",
        "        }\n",
        "    },\n",
        "    {\n",
        "        \"clouds\": {\n",
        "            \"all\": 90\n",
        "        },\n",
        "        \"name\": \"Winterthur\",\n",
        "        \"coord\": {\n",
        "            \"lat\": 47.5,\n",
        "            \"lon\": 8.75\n",
        "        },\n",
        "        \"sys\": {\n",
        "            \"country\": \"CH\",\n",
        "            \"sunset\": 1417707297,\n",
        "            \"message\": 0.1803,\n",
        "            \"type\": 3,\n",
        "            \"id\": 6007,\n",
        "            \"sunrise\": 1417676146\n",
        "        },\n",
        "        \"weather\": [\n",
        "            {\n",
        "                \"main\": \"Clouds\",\n",
        "                \"id\": 804,\n",
        "                \"icon\": \"04n\",\n",
        "                \"description\": \"overcast clouds\"\n",
        "            }\n",
        "        ],\n",
        "        \"cod\": 200,\n",
        "        \"base\": \"cmc stations\",\n",
        "        \"dt\": 1417727087,\n",
        "        \"main\": {\n",
        "            \"pressure\": 1015,\n",
        "            \"temp_min\": 3.7,\n",
        "            \"temp_max\": 4.5,\n",
        "            \"temp\": 4.0700000000001,\n",
        "            \"humidity\": 86\n",
        "        },\n",
        "        \"id\": 2657970,\n",
        "        \"wind\": {\n",
        "            \"speed\": 1.32,\n",
        "            \"deg\": 47.5016\n",
        "        }\n",
        "    }\n",
        "]\n",
        "'''"
      ],
      "metadata": {
        "id": "KLQ2OXlDIXtF"
      },
      "execution_count": null,
      "outputs": []
    },
    {
      "cell_type": "markdown",
      "source": [
        "***Performing EDA on JSON***"
      ],
      "metadata": {
        "id": "Z7Tgry66SCVp"
      }
    },
    {
      "cell_type": "code",
      "source": [
        "# Import library\n",
        "import json\n",
        "\n",
        "# Convert the JSON string to a Python dictionary\n",
        "weather_data = json.loads(weather_responses)\n",
        "\n",
        "# Access the first dictionary in the list (index 0)\n",
        "first_city_weather = weather_data[0]\n",
        "\n",
        "# Access the keys and values of the dictionary\n",
        "print('Dictionary keys are',first_city_weather.keys(),\"\\n\")\n",
        "print('Dictionary values are',first_city_weather.values(),\"/n\")"
      ],
      "metadata": {
        "colab": {
          "base_uri": "https://localhost:8080/"
        },
        "id": "eBH8eUIxIprX",
        "outputId": "3e3c2090-1547-49a9-e166-1b116bcbf59f"
      },
      "execution_count": null,
      "outputs": [
        {
          "output_type": "stream",
          "name": "stdout",
          "text": [
            "Dictionary keys are dict_keys(['clouds', 'name', 'coord', 'sys', 'weather', 'cod', 'base', 'dt', 'main', 'id', 'wind']) \n",
            "\n",
            "Dictionary values are dict_values([{'all': 90}, 'Zurich', {'lat': 47.37, 'lon': 8.55}, {'country': 'CH', 'sunset': 1417707376, 'message': 0.1971, 'type': 1, 'id': 6007, 'sunrise': 1417676164}, [{'main': 'Clouds', 'id': 804, 'icon': '04n', 'description': 'overcast clouds'}], 200, 'cmc stations', 1417726789, {'pressure': 1014, 'temp_min': 4, 'temp_max': 5, 'temp': 4.4, 'humidity': 86}, 2657896, {'speed': 1.32, 'deg': 47.5016}]) /n\n"
          ]
        }
      ]
    },
    {
      "cell_type": "code",
      "source": [
        "# Investigating if there could be nested dictionaries within the data provided.\n",
        "\n",
        "# Initialize a dictionary to hold nested keys\n",
        "nested_keys = {}\n",
        "\n",
        "# Iterate over each key-value pair in the first city's dictionary\n",
        "for key, value in first_city_weather.items():\n",
        "    if isinstance(value, dict):\n",
        "        # If the value is a dictionary, store its keys\n",
        "        nested_keys[key] = list(value.keys())\n",
        "\n",
        "# Print the nested keys for each top-level key that contains a dictionary\n",
        "print(\"Nested keys within each top-level dictionary key:\")\n",
        "for top_key, keys in nested_keys.items():\n",
        "    print(f\"{top_key}: {keys}\")"
      ],
      "metadata": {
        "colab": {
          "base_uri": "https://localhost:8080/"
        },
        "id": "QazdAvUQxWAj",
        "outputId": "5f869ac6-0041-48e3-9d5e-d989cd3a16ef"
      },
      "execution_count": null,
      "outputs": [
        {
          "output_type": "stream",
          "name": "stdout",
          "text": [
            "Nested keys within each top-level dictionary key:\n",
            "clouds: ['all']\n",
            "coord: ['lat', 'lon']\n",
            "sys: ['country', 'sunset', 'message', 'type', 'id', 'sunrise']\n",
            "main: ['pressure', 'temp_min', 'temp_max', 'temp', 'humidity']\n",
            "wind: ['speed', 'deg']\n"
          ]
        }
      ]
    },
    {
      "cell_type": "code",
      "source": [
        "# Verifing how many levels of nesting there are\n",
        "\n",
        "def explore_structure(data, level=0):\n",
        "    \"\"\"\n",
        "    Recursively explores the structure of a JSON-like object,\n",
        "    printing out keys and the types of their associated values.\n",
        "    \"\"\"\n",
        "    # Indentation for visualizing levels\n",
        "    indent = '  ' * level\n",
        "\n",
        "    if isinstance(data, dict):\n",
        "        for key, value in data.items():\n",
        "            # Print the key with its nesting level\n",
        "            print(f\"{indent}- {key} (type: {type(value).__name__})\")\n",
        "            # Recursively explore the value if it's a dictionary or list\n",
        "            if isinstance(value, (dict, list)):\n",
        "                explore_structure(value, level + 1)\n",
        "\n",
        "    elif isinstance(data, list):\n",
        "        print(f\"{indent}List of {len(data)} elements\")\n",
        "        # Optionally explore the first element to get a sense of the structure\n",
        "        if data:\n",
        "            explore_structure(data[0], level)\n",
        "\n",
        "# Start exploring from the top level\n",
        "print(\"Exploring JSON Structure:\")\n",
        "explore_structure(weather_data)"
      ],
      "metadata": {
        "colab": {
          "base_uri": "https://localhost:8080/"
        },
        "id": "_Nl0zIqwyQxR",
        "outputId": "d2605c46-7f75-4eef-abe0-669ef21423ca"
      },
      "execution_count": null,
      "outputs": [
        {
          "output_type": "stream",
          "name": "stdout",
          "text": [
            "Exploring JSON Structure:\n",
            "List of 6 elements\n",
            "- clouds (type: dict)\n",
            "  - all (type: int)\n",
            "- name (type: str)\n",
            "- coord (type: dict)\n",
            "  - lat (type: float)\n",
            "  - lon (type: float)\n",
            "- sys (type: dict)\n",
            "  - country (type: str)\n",
            "  - sunset (type: int)\n",
            "  - message (type: float)\n",
            "  - type (type: int)\n",
            "  - id (type: int)\n",
            "  - sunrise (type: int)\n",
            "- weather (type: list)\n",
            "  List of 1 elements\n",
            "  - main (type: str)\n",
            "  - id (type: int)\n",
            "  - icon (type: str)\n",
            "  - description (type: str)\n",
            "- cod (type: int)\n",
            "- base (type: str)\n",
            "- dt (type: int)\n",
            "- main (type: dict)\n",
            "  - pressure (type: int)\n",
            "  - temp_min (type: int)\n",
            "  - temp_max (type: int)\n",
            "  - temp (type: float)\n",
            "  - humidity (type: int)\n",
            "- id (type: int)\n",
            "- wind (type: dict)\n",
            "  - speed (type: float)\n",
            "  - deg (type: float)\n"
          ]
        }
      ]
    },
    {
      "cell_type": "code",
      "source": [
        "# Printing the data to understand it\n",
        "\n",
        "# Define variables\n",
        "city_names = []\n",
        "temperatures = []\n",
        "pressures = []\n",
        "humidities = []\n",
        "weather = []\n",
        "#raining_cities = []\n",
        "#cloudy_cities = []\n",
        "\n",
        "\n",
        "print(\"All Searching For Data============================================\")\n",
        "for city in weather_data:\n",
        "\n",
        "    city_names.append(city[\"name\"])\n",
        "    temperatures.append(city[\"main\"][\"temp_max\"])\n",
        "    pressures.append(city[\"main\"][\"pressure\"])\n",
        "    humidities.append(city[\"main\"][\"humidity\"])\n",
        "    weather.append(city[\"weather\"][0][\"description\"])\n",
        "\n",
        "print(city_names)\n",
        "print(temperatures)\n",
        "print(pressures)\n",
        "print(humidities)\n",
        "print(weather)"
      ],
      "metadata": {
        "colab": {
          "base_uri": "https://localhost:8080/"
        },
        "id": "_JC42qZiBevc",
        "outputId": "4e4fe39d-dbd0-4e29-8121-24dcdd9415e7"
      },
      "execution_count": 57,
      "outputs": [
        {
          "output_type": "stream",
          "name": "stdout",
          "text": [
            "All Searching For Data============================================\n",
            "['Zurich', 'Geneva', 'Lausanne', 'Bern', 'Basel', 'Winterthur']\n",
            "[5, 7, 6, 5, 4, 4.5]\n",
            "[1014, 1014, 1014, 1014, 1015, 1015]\n",
            "[86, 87, 93, 93, 93, 86]\n",
            "['overcast clouds', 'overcast clouds', 'overcast clouds', 'overcast clouds', 'broken clouds', 'overcast clouds']\n"
          ]
        }
      ]
    },
    {
      "cell_type": "markdown",
      "source": [
        "- Warmest city in with max temperatures\n",
        "- Highest humidity city with max humidities\n",
        "- Highest pressure in city with max pressures\n",
        "- It is raining in cities\n",
        "- Broken clouds in cities"
      ],
      "metadata": {
        "id": "2ZOThlzFSzAM"
      }
    },
    {
      "cell_type": "code",
      "source": [
        "# Extract relevant data including occurances\n",
        "temperatures = [city['main']['temp'] for city in weather_data]\n",
        "pressures = [city['main']['pressure'] for city in weather_data]\n",
        "humidities = [city['main']['humidity'] for city in weather_data]\n",
        "weather_conditions = [city['weather'][0]['description'] for city in weather_data]\n",
        "\n",
        "# Initialize variables to track the maximum temperature and its count\n",
        "maximum_temp = 0\n",
        "max_temp_count = 0\n",
        "\n",
        "# Initialize variables to track the maximum pressure and its count\n",
        "maximum_pressure = 0\n",
        "max_pressure_count = 0\n",
        "\n",
        "# Initialize variables to track the maximum humidity and its count\n",
        "maximum_humidity = 0\n",
        "max_humidity_count = 0\n",
        "\n",
        "# Raining cities variable to track cities it rains and their count\n",
        "raining_cities = []\n",
        "raining_count = 0\n",
        "\n",
        "# Cloudy cities variable to track cities it is cloudy and their count\n",
        "cloudy_cities = []\n",
        "cloudy_count = 0\n",
        "\n",
        "# Calculate maximum temperature and its occurrences\n",
        "for temp in temperatures:\n",
        "    if temp > maximum_temp:\n",
        "        maximum_temp = temp\n",
        "        max_temp_count = 1\n",
        "    elif temp == maximum_temp:\n",
        "        max_temp_count += 1\n",
        "\n",
        "# Calculate maximum pressure and its occurrences\n",
        "for pressure in pressures:\n",
        "    if pressure > maximum_pressure:\n",
        "        maximum_pressure = pressure\n",
        "        max_pressure_count = 1\n",
        "    elif pressure == maximum_pressure:\n",
        "        max_pressure_count += 1\n",
        "\n",
        "# Calculate maximum humidity and its occurrences\n",
        "for humidity in humidities:\n",
        "    if humidity > maximum_humidity:\n",
        "        maximum_humidity = humidity\n",
        "        max_humidity_count = 1\n",
        "    elif humidity == maximum_humidity:\n",
        "        max_humidity_count += 1\n",
        "\n",
        "# Track cities with rain and clouds\n",
        "for city in weather_data:\n",
        "    description = city['weather'][0]['description']\n",
        "    city_name = city['name']\n",
        "    if \"rain\" in description:\n",
        "        raining_cities.append(city_name)\n",
        "        raining_count += 1\n",
        "    if \"broken clouds\" in description:\n",
        "        cloudy_cities.append(city_name)\n",
        "        cloudy_count += 1\n",
        "\n",
        "# Print results\n",
        "print(f\"The maximum temperature is {maximum_temp}°C and it occurs {max_temp_count} times.\\n\")\n",
        "print(f\"The maximum pressure is {maximum_pressure} and it occurs {max_pressure_count} times.\\n\")\n",
        "print(f\"The maximum humidity is {maximum_humidity} and it occurs {max_humidity_count} times.\\n\")\n",
        "print(f\"It rains in {raining_cities} and it occurs {raining_count} times.\\n\")\n",
        "print(f\"It is broken cloud in {cloudy_cities} and it occurs {cloudy_count} times.\\n\")\n"
      ],
      "metadata": {
        "colab": {
          "base_uri": "https://localhost:8080/"
        },
        "id": "cm_Iv4wFEbPQ",
        "outputId": "cea6aaf7-879c-44df-d4b8-afc6133681cd"
      },
      "execution_count": 58,
      "outputs": [
        {
          "output_type": "stream",
          "name": "stdout",
          "text": [
            "The maximum temperature is 5.97°C and it occurs 1 times.\n",
            "\n",
            "The maximum pressure is 1015 and it occurs 2 times.\n",
            "\n",
            "The maximum humidity is 93 and it occurs 3 times.\n",
            "\n",
            "It rains in [] and it occurs 0 times.\n",
            "\n",
            "It is broken cloud in ['Basel'] and it occurs 1 times.\n",
            "\n"
          ]
        }
      ]
    },
    {
      "cell_type": "code",
      "source": [
        "# Extract relevant data including list of cities IF there are several occurances.\n",
        "maximum_temp = 0\n",
        "max_temp_count = 0\n",
        "max_temp_cities = []\n",
        "\n",
        "maximum_pressure = 0\n",
        "max_pressure_count = 0\n",
        "max_pressure_cities = []\n",
        "\n",
        "maximum_humidity = 0\n",
        "max_humidity_count = 0\n",
        "max_humidity_cities = []\n",
        "\n",
        "raining_cities = []\n",
        "raining_count = 0\n",
        "\n",
        "cloudy_cities = []\n",
        "cloudy_count = 0\n",
        "\n",
        "# Iterate over each city's data\n",
        "for city in weather_data:\n",
        "    city_name = city['name']\n",
        "    temp = city['main']['temp']\n",
        "    pressure = city['main']['pressure']\n",
        "    humidity = city['main']['humidity']\n",
        "    description = city['weather'][0]['description'] # accessing the list of dictionaries, albeit there is only one. subsequently, working with the key again.\n",
        "\n",
        "    # Check for maximum temperature\n",
        "    if temp > maximum_temp:\n",
        "        maximum_temp = temp\n",
        "        max_temp_count = 1\n",
        "        max_temp_cities = [city_name]\n",
        "    elif temp == maximum_temp:\n",
        "        max_temp_count += 1\n",
        "        max_temp_cities.append(city_name)\n",
        "\n",
        "    # Check for maximum pressure\n",
        "    if pressure > maximum_pressure:\n",
        "        maximum_pressure = pressure\n",
        "        max_pressure_count = 1\n",
        "        max_pressure_cities = [city_name]\n",
        "    elif pressure == maximum_pressure:\n",
        "        max_pressure_count += 1\n",
        "        max_pressure_cities.append(city_name)\n",
        "\n",
        "    # Check for maximum humidity\n",
        "    if humidity > maximum_humidity:\n",
        "        maximum_humidity = humidity\n",
        "        max_humidity_count = 1\n",
        "        max_humidity_cities = [city_name]\n",
        "    elif humidity == maximum_humidity:\n",
        "        max_humidity_count += 1\n",
        "        max_humidity_cities.append(city_name)\n",
        "\n",
        "    # Track cities with rain\n",
        "    if \"rain\" in description:\n",
        "        raining_cities.append(city_name)\n",
        "        raining_count += 1\n",
        "\n",
        "    # Track cities with broken clouds\n",
        "    if \"broken clouds\" in description:\n",
        "        cloudy_cities.append(city_name)\n",
        "        cloudy_count += 1\n",
        "\n",
        "# Print results\n",
        "print(f\"The maximum temperature is {maximum_temp}°C and it occurs {max_temp_count} times in {max_temp_cities}.\\n\")\n",
        "print(f\"The maximum pressure is {maximum_pressure} and it occurs {max_pressure_count} times in {max_pressure_cities}.\\n\")\n",
        "print(f\"The maximum humidity is {maximum_humidity} and it occurs {max_humidity_count} times in {max_humidity_cities}.\\n\")\n",
        "print(f\"It rains in {raining_cities} and it occurs {raining_count} times.\\n\")\n",
        "print(f\"It is broken cloud in {cloudy_cities} and it occurs {cloudy_count} times.\\n\")\n"
      ],
      "metadata": {
        "colab": {
          "base_uri": "https://localhost:8080/"
        },
        "id": "9iinOEKaLlP_",
        "outputId": "29423aa5-dce0-48b7-db97-37d3372084d8"
      },
      "execution_count": 59,
      "outputs": [
        {
          "output_type": "stream",
          "name": "stdout",
          "text": [
            "The maximum temperature is 5.97°C and it occurs 1 times in ['Geneva'].\n",
            "\n",
            "The maximum pressure is 1015 and it occurs 2 times in ['Basel', 'Winterthur'].\n",
            "\n",
            "The maximum humidity is 93 and it occurs 3 times in ['Lausanne', 'Bern', 'Basel'].\n",
            "\n",
            "It rains in [] and it occurs 0 times.\n",
            "\n",
            "It is broken cloud in ['Basel'] and it occurs 1 times.\n",
            "\n"
          ]
        }
      ]
    }
  ]
}